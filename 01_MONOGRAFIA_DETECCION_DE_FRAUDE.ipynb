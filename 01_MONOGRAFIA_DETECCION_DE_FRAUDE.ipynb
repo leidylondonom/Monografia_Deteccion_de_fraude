{
  "nbformat": 4,
  "nbformat_minor": 0,
  "metadata": {
    "colab": {
      "name": "01_MONOGRAFIA_DETECCION_DE_FRAUDE.ipynb",
      "provenance": [],
      "collapsed_sections": []
    },
    "kernelspec": {
      "display_name": "Python 3",
      "name": "python3"
    }
  },
  "cells": [
    {
      "cell_type": "markdown",
      "metadata": {
        "id": "eDBrDFKEniBB"
      },
      "source": [
        "# **Detección de Fraude**"
      ]
    },
    {
      "cell_type": "markdown",
      "metadata": {
        "id": "6GnEPz_Mnv_y"
      },
      "source": [
        "**Realizado por:** \n",
        "\n",
        "Maricela Carmona Mora.\n",
        "Correo: maricela.carmona@udea.edu.co\n",
        "\n",
        "Leidy Marcela Londoño Morales.\n",
        "Correo: leidy.londonom@udea.edu.co"
      ]
    },
    {
      "cell_type": "markdown",
      "metadata": {
        "id": "QYvDo-9voTxx"
      },
      "source": [
        "# **Objetivos:**\n",
        "\n",
        "**Negocio:**\n",
        "\n",
        "- Identificar posibles transacciones fraudulentas realizadas a través del sistema de billetera móvil.\n",
        "- Generar alertas en el monto y número de transacciones que sean sospechosas de fraude.\n",
        "\n",
        "**Analítica de datos:**\n",
        "- Realizar un modelo analítico que tenga un buen ajuste (buena precisión) a la hora de detectar transacciones fraudulentas realizadas a través del sistema de billetera móvil, cuyo costo operacional y tiempo de identificación sea mínimo.\n"
      ]
    },
    {
      "cell_type": "markdown",
      "metadata": {
        "id": "J9NhWrlWpmh4"
      },
      "source": [
        "# **Fuente de datos:**\n",
        "\n",
        "- Datos tomados de Kaggle, los cuales son el producto de una simulación de transacciones de dinero móvil, basadas en una muestra de transacciones reales extraídas de un mes de registros financieros, implementado en un país africano. Los registros originales fueron proporcionados por una empresa multinacional, proveedor del servicio financiero móvil.\n",
        "- Se trabajará con 6 millones de transacciones aproximadamente.\n",
        "https://www.kaggle.com/ntnu-testimon/paysim1\n"
      ]
    },
    {
      "cell_type": "code",
      "metadata": {
        "id": "wWSudinXFJSk"
      },
      "source": [
        "import pandas as pd\n",
        "import numpy as np\n",
        "%matplotlib inline\n",
        "import matplotlib.pyplot as plt\n",
        "import matplotlib.lines as mlines\n",
        "import seaborn as sns\n",
        "from sklearn.model_selection import train_test_split, learning_curve\n",
        "from sklearn.metrics import average_precision_score\n",
        "from xgboost.sklearn import XGBClassifier\n",
        "from xgboost import plot_importance, to_graphviz\n",
        "from sklearn.svm import OneClassSVM\n",
        "from sklearn.ensemble import IsolationForest\n",
        "from sklearn.metrics import f1_score, recall_score, precision_score, make_scorer, confusion_matrix, classification_report\n",
        "from mpl_toolkits.mplot3d import Axes3D\n",
        "from sklearn.preprocessing import StandardScaler\n",
        "import os"
      ],
      "execution_count": null,
      "outputs": []
    },
    {
      "cell_type": "code",
      "metadata": {
        "id": "Vexo31M8lJeP"
      },
      "source": [
        "! pip install -q kaggle"
      ],
      "execution_count": null,
      "outputs": []
    },
    {
      "cell_type": "markdown",
      "metadata": {
        "id": "oqy9H8qesK5z"
      },
      "source": [
        "**Nota: Antes de ejecutar la siguiente linea, ingresar a Kaggle con usuario y contraseña. En el perfil ingresar a la opción: account, crear un nuevo api token, el cual descargará un archivo .json, necesario para la siguiente conexión y descarga de los datos** "
      ]
    },
    {
      "cell_type": "code",
      "metadata": {
        "colab": {
          "resources": {
            "http://localhost:8080/nbextensions/google.colab/files.js": {
              "data": "Ly8gQ29weXJpZ2h0IDIwMTcgR29vZ2xlIExMQwovLwovLyBMaWNlbnNlZCB1bmRlciB0aGUgQXBhY2hlIExpY2Vuc2UsIFZlcnNpb24gMi4wICh0aGUgIkxpY2Vuc2UiKTsKLy8geW91IG1heSBub3QgdXNlIHRoaXMgZmlsZSBleGNlcHQgaW4gY29tcGxpYW5jZSB3aXRoIHRoZSBMaWNlbnNlLgovLyBZb3UgbWF5IG9idGFpbiBhIGNvcHkgb2YgdGhlIExpY2Vuc2UgYXQKLy8KLy8gICAgICBodHRwOi8vd3d3LmFwYWNoZS5vcmcvbGljZW5zZXMvTElDRU5TRS0yLjAKLy8KLy8gVW5sZXNzIHJlcXVpcmVkIGJ5IGFwcGxpY2FibGUgbGF3IG9yIGFncmVlZCB0byBpbiB3cml0aW5nLCBzb2Z0d2FyZQovLyBkaXN0cmlidXRlZCB1bmRlciB0aGUgTGljZW5zZSBpcyBkaXN0cmlidXRlZCBvbiBhbiAiQVMgSVMiIEJBU0lTLAovLyBXSVRIT1VUIFdBUlJBTlRJRVMgT1IgQ09ORElUSU9OUyBPRiBBTlkgS0lORCwgZWl0aGVyIGV4cHJlc3Mgb3IgaW1wbGllZC4KLy8gU2VlIHRoZSBMaWNlbnNlIGZvciB0aGUgc3BlY2lmaWMgbGFuZ3VhZ2UgZ292ZXJuaW5nIHBlcm1pc3Npb25zIGFuZAovLyBsaW1pdGF0aW9ucyB1bmRlciB0aGUgTGljZW5zZS4KCi8qKgogKiBAZmlsZW92ZXJ2aWV3IEhlbHBlcnMgZm9yIGdvb2dsZS5jb2xhYiBQeXRob24gbW9kdWxlLgogKi8KKGZ1bmN0aW9uKHNjb3BlKSB7CmZ1bmN0aW9uIHNwYW4odGV4dCwgc3R5bGVBdHRyaWJ1dGVzID0ge30pIHsKICBjb25zdCBlbGVtZW50ID0gZG9jdW1lbnQuY3JlYXRlRWxlbWVudCgnc3BhbicpOwogIGVsZW1lbnQudGV4dENvbnRlbnQgPSB0ZXh0OwogIGZvciAoY29uc3Qga2V5IG9mIE9iamVjdC5rZXlzKHN0eWxlQXR0cmlidXRlcykpIHsKICAgIGVsZW1lbnQuc3R5bGVba2V5XSA9IHN0eWxlQXR0cmlidXRlc1trZXldOwogIH0KICByZXR1cm4gZWxlbWVudDsKfQoKLy8gTWF4IG51bWJlciBvZiBieXRlcyB3aGljaCB3aWxsIGJlIHVwbG9hZGVkIGF0IGEgdGltZS4KY29uc3QgTUFYX1BBWUxPQURfU0laRSA9IDEwMCAqIDEwMjQ7CgpmdW5jdGlvbiBfdXBsb2FkRmlsZXMoaW5wdXRJZCwgb3V0cHV0SWQpIHsKICBjb25zdCBzdGVwcyA9IHVwbG9hZEZpbGVzU3RlcChpbnB1dElkLCBvdXRwdXRJZCk7CiAgY29uc3Qgb3V0cHV0RWxlbWVudCA9IGRvY3VtZW50LmdldEVsZW1lbnRCeUlkKG91dHB1dElkKTsKICAvLyBDYWNoZSBzdGVwcyBvbiB0aGUgb3V0cHV0RWxlbWVudCB0byBtYWtlIGl0IGF2YWlsYWJsZSBmb3IgdGhlIG5leHQgY2FsbAogIC8vIHRvIHVwbG9hZEZpbGVzQ29udGludWUgZnJvbSBQeXRob24uCiAgb3V0cHV0RWxlbWVudC5zdGVwcyA9IHN0ZXBzOwoKICByZXR1cm4gX3VwbG9hZEZpbGVzQ29udGludWUob3V0cHV0SWQpOwp9CgovLyBUaGlzIGlzIHJvdWdobHkgYW4gYXN5bmMgZ2VuZXJhdG9yIChub3Qgc3VwcG9ydGVkIGluIHRoZSBicm93c2VyIHlldCksCi8vIHdoZXJlIHRoZXJlIGFyZSBtdWx0aXBsZSBhc3luY2hyb25vdXMgc3RlcHMgYW5kIHRoZSBQeXRob24gc2lkZSBpcyBnb2luZwovLyB0byBwb2xsIGZvciBjb21wbGV0aW9uIG9mIGVhY2ggc3RlcC4KLy8gVGhpcyB1c2VzIGEgUHJvbWlzZSB0byBibG9jayB0aGUgcHl0aG9uIHNpZGUgb24gY29tcGxldGlvbiBvZiBlYWNoIHN0ZXAsCi8vIHRoZW4gcGFzc2VzIHRoZSByZXN1bHQgb2YgdGhlIHByZXZpb3VzIHN0ZXAgYXMgdGhlIGlucHV0IHRvIHRoZSBuZXh0IHN0ZXAuCmZ1bmN0aW9uIF91cGxvYWRGaWxlc0NvbnRpbnVlKG91dHB1dElkKSB7CiAgY29uc3Qgb3V0cHV0RWxlbWVudCA9IGRvY3VtZW50LmdldEVsZW1lbnRCeUlkKG91dHB1dElkKTsKICBjb25zdCBzdGVwcyA9IG91dHB1dEVsZW1lbnQuc3RlcHM7CgogIGNvbnN0IG5leHQgPSBzdGVwcy5uZXh0KG91dHB1dEVsZW1lbnQubGFzdFByb21pc2VWYWx1ZSk7CiAgcmV0dXJuIFByb21pc2UucmVzb2x2ZShuZXh0LnZhbHVlLnByb21pc2UpLnRoZW4oKHZhbHVlKSA9PiB7CiAgICAvLyBDYWNoZSB0aGUgbGFzdCBwcm9taXNlIHZhbHVlIHRvIG1ha2UgaXQgYXZhaWxhYmxlIHRvIHRoZSBuZXh0CiAgICAvLyBzdGVwIG9mIHRoZSBnZW5lcmF0b3IuCiAgICBvdXRwdXRFbGVtZW50Lmxhc3RQcm9taXNlVmFsdWUgPSB2YWx1ZTsKICAgIHJldHVybiBuZXh0LnZhbHVlLnJlc3BvbnNlOwogIH0pOwp9CgovKioKICogR2VuZXJhdG9yIGZ1bmN0aW9uIHdoaWNoIGlzIGNhbGxlZCBiZXR3ZWVuIGVhY2ggYXN5bmMgc3RlcCBvZiB0aGUgdXBsb2FkCiAqIHByb2Nlc3MuCiAqIEBwYXJhbSB7c3RyaW5nfSBpbnB1dElkIEVsZW1lbnQgSUQgb2YgdGhlIGlucHV0IGZpbGUgcGlja2VyIGVsZW1lbnQuCiAqIEBwYXJhbSB7c3RyaW5nfSBvdXRwdXRJZCBFbGVtZW50IElEIG9mIHRoZSBvdXRwdXQgZGlzcGxheS4KICogQHJldHVybiB7IUl0ZXJhYmxlPCFPYmplY3Q+fSBJdGVyYWJsZSBvZiBuZXh0IHN0ZXBzLgogKi8KZnVuY3Rpb24qIHVwbG9hZEZpbGVzU3RlcChpbnB1dElkLCBvdXRwdXRJZCkgewogIGNvbnN0IGlucHV0RWxlbWVudCA9IGRvY3VtZW50LmdldEVsZW1lbnRCeUlkKGlucHV0SWQpOwogIGlucHV0RWxlbWVudC5kaXNhYmxlZCA9IGZhbHNlOwoKICBjb25zdCBvdXRwdXRFbGVtZW50ID0gZG9jdW1lbnQuZ2V0RWxlbWVudEJ5SWQob3V0cHV0SWQpOwogIG91dHB1dEVsZW1lbnQuaW5uZXJIVE1MID0gJyc7CgogIGNvbnN0IHBpY2tlZFByb21pc2UgPSBuZXcgUHJvbWlzZSgocmVzb2x2ZSkgPT4gewogICAgaW5wdXRFbGVtZW50LmFkZEV2ZW50TGlzdGVuZXIoJ2NoYW5nZScsIChlKSA9PiB7CiAgICAgIHJlc29sdmUoZS50YXJnZXQuZmlsZXMpOwogICAgfSk7CiAgfSk7CgogIGNvbnN0IGNhbmNlbCA9IGRvY3VtZW50LmNyZWF0ZUVsZW1lbnQoJ2J1dHRvbicpOwogIGlucHV0RWxlbWVudC5wYXJlbnRFbGVtZW50LmFwcGVuZENoaWxkKGNhbmNlbCk7CiAgY2FuY2VsLnRleHRDb250ZW50ID0gJ0NhbmNlbCB1cGxvYWQnOwogIGNvbnN0IGNhbmNlbFByb21pc2UgPSBuZXcgUHJvbWlzZSgocmVzb2x2ZSkgPT4gewogICAgY2FuY2VsLm9uY2xpY2sgPSAoKSA9PiB7CiAgICAgIHJlc29sdmUobnVsbCk7CiAgICB9OwogIH0pOwoKICAvLyBXYWl0IGZvciB0aGUgdXNlciB0byBwaWNrIHRoZSBmaWxlcy4KICBjb25zdCBmaWxlcyA9IHlpZWxkIHsKICAgIHByb21pc2U6IFByb21pc2UucmFjZShbcGlja2VkUHJvbWlzZSwgY2FuY2VsUHJvbWlzZV0pLAogICAgcmVzcG9uc2U6IHsKICAgICAgYWN0aW9uOiAnc3RhcnRpbmcnLAogICAgfQogIH07CgogIGNhbmNlbC5yZW1vdmUoKTsKCiAgLy8gRGlzYWJsZSB0aGUgaW5wdXQgZWxlbWVudCBzaW5jZSBmdXJ0aGVyIHBpY2tzIGFyZSBub3QgYWxsb3dlZC4KICBpbnB1dEVsZW1lbnQuZGlzYWJsZWQgPSB0cnVlOwoKICBpZiAoIWZpbGVzKSB7CiAgICByZXR1cm4gewogICAgICByZXNwb25zZTogewogICAgICAgIGFjdGlvbjogJ2NvbXBsZXRlJywKICAgICAgfQogICAgfTsKICB9CgogIGZvciAoY29uc3QgZmlsZSBvZiBmaWxlcykgewogICAgY29uc3QgbGkgPSBkb2N1bWVudC5jcmVhdGVFbGVtZW50KCdsaScpOwogICAgbGkuYXBwZW5kKHNwYW4oZmlsZS5uYW1lLCB7Zm9udFdlaWdodDogJ2JvbGQnfSkpOwogICAgbGkuYXBwZW5kKHNwYW4oCiAgICAgICAgYCgke2ZpbGUudHlwZSB8fCAnbi9hJ30pIC0gJHtmaWxlLnNpemV9IGJ5dGVzLCBgICsKICAgICAgICBgbGFzdCBtb2RpZmllZDogJHsKICAgICAgICAgICAgZmlsZS5sYXN0TW9kaWZpZWREYXRlID8gZmlsZS5sYXN0TW9kaWZpZWREYXRlLnRvTG9jYWxlRGF0ZVN0cmluZygpIDoKICAgICAgICAgICAgICAgICAgICAgICAgICAgICAgICAgICAgJ24vYSd9IC0gYCkpOwogICAgY29uc3QgcGVyY2VudCA9IHNwYW4oJzAlIGRvbmUnKTsKICAgIGxpLmFwcGVuZENoaWxkKHBlcmNlbnQpOwoKICAgIG91dHB1dEVsZW1lbnQuYXBwZW5kQ2hpbGQobGkpOwoKICAgIGNvbnN0IGZpbGVEYXRhUHJvbWlzZSA9IG5ldyBQcm9taXNlKChyZXNvbHZlKSA9PiB7CiAgICAgIGNvbnN0IHJlYWRlciA9IG5ldyBGaWxlUmVhZGVyKCk7CiAgICAgIHJlYWRlci5vbmxvYWQgPSAoZSkgPT4gewogICAgICAgIHJlc29sdmUoZS50YXJnZXQucmVzdWx0KTsKICAgICAgfTsKICAgICAgcmVhZGVyLnJlYWRBc0FycmF5QnVmZmVyKGZpbGUpOwogICAgfSk7CiAgICAvLyBXYWl0IGZvciB0aGUgZGF0YSB0byBiZSByZWFkeS4KICAgIGxldCBmaWxlRGF0YSA9IHlpZWxkIHsKICAgICAgcHJvbWlzZTogZmlsZURhdGFQcm9taXNlLAogICAgICByZXNwb25zZTogewogICAgICAgIGFjdGlvbjogJ2NvbnRpbnVlJywKICAgICAgfQogICAgfTsKCiAgICAvLyBVc2UgYSBjaHVua2VkIHNlbmRpbmcgdG8gYXZvaWQgbWVzc2FnZSBzaXplIGxpbWl0cy4gU2VlIGIvNjIxMTU2NjAuCiAgICBsZXQgcG9zaXRpb24gPSAwOwogICAgd2hpbGUgKHBvc2l0aW9uIDwgZmlsZURhdGEuYnl0ZUxlbmd0aCkgewogICAgICBjb25zdCBsZW5ndGggPSBNYXRoLm1pbihmaWxlRGF0YS5ieXRlTGVuZ3RoIC0gcG9zaXRpb24sIE1BWF9QQVlMT0FEX1NJWkUpOwogICAgICBjb25zdCBjaHVuayA9IG5ldyBVaW50OEFycmF5KGZpbGVEYXRhLCBwb3NpdGlvbiwgbGVuZ3RoKTsKICAgICAgcG9zaXRpb24gKz0gbGVuZ3RoOwoKICAgICAgY29uc3QgYmFzZTY0ID0gYnRvYShTdHJpbmcuZnJvbUNoYXJDb2RlLmFwcGx5KG51bGwsIGNodW5rKSk7CiAgICAgIHlpZWxkIHsKICAgICAgICByZXNwb25zZTogewogICAgICAgICAgYWN0aW9uOiAnYXBwZW5kJywKICAgICAgICAgIGZpbGU6IGZpbGUubmFtZSwKICAgICAgICAgIGRhdGE6IGJhc2U2NCwKICAgICAgICB9LAogICAgICB9OwogICAgICBwZXJjZW50LnRleHRDb250ZW50ID0KICAgICAgICAgIGAke01hdGgucm91bmQoKHBvc2l0aW9uIC8gZmlsZURhdGEuYnl0ZUxlbmd0aCkgKiAxMDApfSUgZG9uZWA7CiAgICB9CiAgfQoKICAvLyBBbGwgZG9uZS4KICB5aWVsZCB7CiAgICByZXNwb25zZTogewogICAgICBhY3Rpb246ICdjb21wbGV0ZScsCiAgICB9CiAgfTsKfQoKc2NvcGUuZ29vZ2xlID0gc2NvcGUuZ29vZ2xlIHx8IHt9OwpzY29wZS5nb29nbGUuY29sYWIgPSBzY29wZS5nb29nbGUuY29sYWIgfHwge307CnNjb3BlLmdvb2dsZS5jb2xhYi5fZmlsZXMgPSB7CiAgX3VwbG9hZEZpbGVzLAogIF91cGxvYWRGaWxlc0NvbnRpbnVlLAp9Owp9KShzZWxmKTsK",
              "ok": true,
              "headers": [
                [
                  "content-type",
                  "application/javascript"
                ]
              ],
              "status": 200,
              "status_text": ""
            }
          },
          "base_uri": "https://localhost:8080/",
          "height": 91
        },
        "id": "0BB1L075lSDP",
        "outputId": "b39976e3-4a51-4919-ed13-5b8e1f25a9cb"
      },
      "source": [
        "from google.colab import files\n",
        "files.upload()"
      ],
      "execution_count": null,
      "outputs": [
        {
          "output_type": "display_data",
          "data": {
            "text/html": [
              "\n",
              "     <input type=\"file\" id=\"files-6cdd47aa-4fed-45d2-8a11-514029e2ccbe\" name=\"files[]\" multiple disabled\n",
              "        style=\"border:none\" />\n",
              "     <output id=\"result-6cdd47aa-4fed-45d2-8a11-514029e2ccbe\">\n",
              "      Upload widget is only available when the cell has been executed in the\n",
              "      current browser session. Please rerun this cell to enable.\n",
              "      </output>\n",
              "      <script src=\"/nbextensions/google.colab/files.js\"></script> "
            ],
            "text/plain": [
              "<IPython.core.display.HTML object>"
            ]
          },
          "metadata": {
            "tags": []
          }
        },
        {
          "output_type": "stream",
          "text": [
            "Saving kaggle.json to kaggle.json\n"
          ],
          "name": "stdout"
        },
        {
          "output_type": "execute_result",
          "data": {
            "text/plain": [
              "{'kaggle.json': b'{\"username\":\"leidylondoo\",\"key\":\"ec5f5de4ed8248e02b72dccf44ecbb67\"}'}"
            ]
          },
          "metadata": {
            "tags": []
          },
          "execution_count": 3
        }
      ]
    },
    {
      "cell_type": "code",
      "metadata": {
        "id": "SXNp24vxlcQ5"
      },
      "source": [
        "! mkdir ~/.kaggle"
      ],
      "execution_count": null,
      "outputs": []
    },
    {
      "cell_type": "code",
      "metadata": {
        "id": "s4QoV7bmlh0v"
      },
      "source": [
        "! cp kaggle.json ~/.kaggle/"
      ],
      "execution_count": null,
      "outputs": []
    },
    {
      "cell_type": "code",
      "metadata": {
        "id": "SSK1i-M3ll6R"
      },
      "source": [
        "! chmod 600 ~/.kaggle/kaggle.json"
      ],
      "execution_count": null,
      "outputs": []
    },
    {
      "cell_type": "code",
      "metadata": {
        "colab": {
          "base_uri": "https://localhost:8080/"
        },
        "id": "ps0GsuKYlp0l",
        "outputId": "69618358-bdfd-4801-d369-3763ed365818"
      },
      "source": [
        "! kaggle datasets list"
      ],
      "execution_count": null,
      "outputs": [
        {
          "output_type": "stream",
          "text": [
            "Warning: Looks like you're using an outdated API Version, please consider updating (server 1.5.12 / client 1.5.4)\n",
            "ref                                                         title                                              size  lastUpdated          downloadCount  \n",
            "----------------------------------------------------------  ------------------------------------------------  -----  -------------------  -------------  \n",
            "gpreda/reddit-vaccine-myths                                 Reddit Vaccine Myths                              229KB  2021-05-21 06:23:33           5819  \n",
            "crowww/a-large-scale-fish-dataset                           A Large Scale Fish Dataset                          3GB  2021-04-28 17:03:01           3227  \n",
            "imsparsh/musicnet-dataset                                   MusicNet Dataset                                   22GB  2021-02-18 14:12:19           1150  \n",
            "dhruvildave/wikibooks-dataset                               Wikibooks Dataset                                   1GB  2021-02-18 10:08:27           1887  \n",
            "promptcloud/careerbuilder-job-listing-2020                  Careerbuilder Job Listing 2020                     42MB  2021-03-05 06:59:52            825  \n",
            "mathurinache/twitter-edge-nodes                             Twitter Edge Nodes                                342MB  2021-03-08 06:43:04            395  \n",
            "alsgroup/end-als                                            End ALS Kaggle Challenge                           12GB  2021-04-08 12:16:37            629  \n",
            "fatiimaezzahra/famous-iconic-women                          Famous Iconic Women                               838MB  2021-02-28 14:56:00            612  \n",
            "simiotic/github-code-snippets                               GitHub Code Snippets                                7GB  2021-03-03 11:34:39            120  \n",
            "nickuzmenkov/nih-chest-xrays-tfrecords                      NIH Chest X-rays TFRecords                         11GB  2021-03-09 04:49:23            504  \n",
            "coloradokb/dandelionimages                                  DandelionImages                                     4GB  2021-02-19 20:03:47            317  \n",
            "mathurinache/the-lj-speech-dataset                          The LJ Speech Dataset                               3GB  2021-02-15 09:19:54            147  \n",
            "stuartjames/lights                                          LightS: Light Specularity Dataset                  18GB  2021-02-18 14:32:26             55  \n",
            "landrykezebou/lvzhdr-tone-mapping-benchmark-dataset-tmonet  LVZ-HDR Tone Mapping Benchmark Dataset (TMO-Net)   24GB  2021-03-01 05:03:40             72  \n",
            "imsparsh/accentdb-core-extended                             AccentDB - Core & Extended                          6GB  2021-02-17 14:22:54             63  \n",
            "nickuzmenkov/ranzcr-clip-kfold-tfrecords                    RANZCR CLiP KFold TFRecords                         2GB  2021-02-21 13:29:51             74  \n",
            "datasnaek/youtube-new                                       Trending YouTube Video Statistics                 201MB  2019-06-03 00:56:47         140582  \n",
            "zynicide/wine-reviews                                       Wine Reviews                                       51MB  2017-11-27 17:08:04         136802  \n",
            "datasnaek/chess                                             Chess Game Dataset (Lichess)                        3MB  2017-09-04 03:09:09          18384  \n",
            "residentmario/ramen-ratings                                 Ramen Ratings                                      40KB  2018-01-11 16:04:39          23119  \n"
          ],
          "name": "stdout"
        }
      ]
    },
    {
      "cell_type": "code",
      "metadata": {
        "colab": {
          "base_uri": "https://localhost:8080/"
        },
        "id": "ilxwNBOzlv7u",
        "outputId": "c004d6e0-8b2e-4c28-87a7-d33e55b7b97b"
      },
      "source": [
        "! kaggle datasets download -d ntnu-testimon/paysim1"
      ],
      "execution_count": null,
      "outputs": [
        {
          "output_type": "stream",
          "text": [
            "Downloading paysim1.zip to /content\n",
            " 92% 163M/178M [00:01<00:00, 116MB/s]\n",
            "100% 178M/178M [00:01<00:00, 119MB/s]\n"
          ],
          "name": "stdout"
        }
      ]
    },
    {
      "cell_type": "code",
      "metadata": {
        "id": "sh4-yJvtlzel"
      },
      "source": [
        "! mkdir train"
      ],
      "execution_count": null,
      "outputs": []
    },
    {
      "cell_type": "code",
      "metadata": {
        "colab": {
          "base_uri": "https://localhost:8080/"
        },
        "id": "i0qq36NTl11Y",
        "outputId": "76f89660-3d67-4887-a4f6-1ec0690ccaf5"
      },
      "source": [
        "! unzip paysim1.zip -d train"
      ],
      "execution_count": null,
      "outputs": [
        {
          "output_type": "stream",
          "text": [
            "Archive:  paysim1.zip\n",
            "  inflating: train/PS_20174392719_1491204439457_log.csv  \n"
          ],
          "name": "stdout"
        }
      ]
    },
    {
      "cell_type": "code",
      "metadata": {
        "colab": {
          "base_uri": "https://localhost:8080/"
        },
        "id": "NhDndyU-l6un",
        "outputId": "fc8faa9a-c209-4591-84e2-59f97a8c1dd4"
      },
      "source": [
        "cd train"
      ],
      "execution_count": null,
      "outputs": [
        {
          "output_type": "stream",
          "text": [
            "/content/train\n"
          ],
          "name": "stdout"
        }
      ]
    },
    {
      "cell_type": "code",
      "metadata": {
        "id": "CW3Fv9Ximr50"
      },
      "source": [
        "import warnings\n",
        "warnings.filterwarnings(\"ignore\", category=DeprecationWarning)"
      ],
      "execution_count": null,
      "outputs": []
    },
    {
      "cell_type": "markdown",
      "metadata": {
        "id": "4jXMs1E2hlA6"
      },
      "source": [
        "# **Datos Originales**"
      ]
    },
    {
      "cell_type": "code",
      "metadata": {
        "colab": {
          "base_uri": "https://localhost:8080/",
          "height": 198
        },
        "id": "nnSkoPuHmBiy",
        "outputId": "50bf22bd-3a76-4c66-eb8d-155a482822b5"
      },
      "source": [
        "datos = pd.read_csv(\"PS_20174392719_1491204439457_log.csv\")\n",
        "datos.head(5)"
      ],
      "execution_count": null,
      "outputs": [
        {
          "output_type": "execute_result",
          "data": {
            "text/html": [
              "<div>\n",
              "<style scoped>\n",
              "    .dataframe tbody tr th:only-of-type {\n",
              "        vertical-align: middle;\n",
              "    }\n",
              "\n",
              "    .dataframe tbody tr th {\n",
              "        vertical-align: top;\n",
              "    }\n",
              "\n",
              "    .dataframe thead th {\n",
              "        text-align: right;\n",
              "    }\n",
              "</style>\n",
              "<table border=\"1\" class=\"dataframe\">\n",
              "  <thead>\n",
              "    <tr style=\"text-align: right;\">\n",
              "      <th></th>\n",
              "      <th>step</th>\n",
              "      <th>type</th>\n",
              "      <th>amount</th>\n",
              "      <th>nameOrig</th>\n",
              "      <th>oldbalanceOrg</th>\n",
              "      <th>newbalanceOrig</th>\n",
              "      <th>nameDest</th>\n",
              "      <th>oldbalanceDest</th>\n",
              "      <th>newbalanceDest</th>\n",
              "      <th>isFraud</th>\n",
              "      <th>isFlaggedFraud</th>\n",
              "    </tr>\n",
              "  </thead>\n",
              "  <tbody>\n",
              "    <tr>\n",
              "      <th>0</th>\n",
              "      <td>1</td>\n",
              "      <td>PAYMENT</td>\n",
              "      <td>9839.64</td>\n",
              "      <td>C1231006815</td>\n",
              "      <td>170136.0</td>\n",
              "      <td>160296.36</td>\n",
              "      <td>M1979787155</td>\n",
              "      <td>0.0</td>\n",
              "      <td>0.0</td>\n",
              "      <td>0</td>\n",
              "      <td>0</td>\n",
              "    </tr>\n",
              "    <tr>\n",
              "      <th>1</th>\n",
              "      <td>1</td>\n",
              "      <td>PAYMENT</td>\n",
              "      <td>1864.28</td>\n",
              "      <td>C1666544295</td>\n",
              "      <td>21249.0</td>\n",
              "      <td>19384.72</td>\n",
              "      <td>M2044282225</td>\n",
              "      <td>0.0</td>\n",
              "      <td>0.0</td>\n",
              "      <td>0</td>\n",
              "      <td>0</td>\n",
              "    </tr>\n",
              "    <tr>\n",
              "      <th>2</th>\n",
              "      <td>1</td>\n",
              "      <td>TRANSFER</td>\n",
              "      <td>181.00</td>\n",
              "      <td>C1305486145</td>\n",
              "      <td>181.0</td>\n",
              "      <td>0.00</td>\n",
              "      <td>C553264065</td>\n",
              "      <td>0.0</td>\n",
              "      <td>0.0</td>\n",
              "      <td>1</td>\n",
              "      <td>0</td>\n",
              "    </tr>\n",
              "    <tr>\n",
              "      <th>3</th>\n",
              "      <td>1</td>\n",
              "      <td>CASH_OUT</td>\n",
              "      <td>181.00</td>\n",
              "      <td>C840083671</td>\n",
              "      <td>181.0</td>\n",
              "      <td>0.00</td>\n",
              "      <td>C38997010</td>\n",
              "      <td>21182.0</td>\n",
              "      <td>0.0</td>\n",
              "      <td>1</td>\n",
              "      <td>0</td>\n",
              "    </tr>\n",
              "    <tr>\n",
              "      <th>4</th>\n",
              "      <td>1</td>\n",
              "      <td>PAYMENT</td>\n",
              "      <td>11668.14</td>\n",
              "      <td>C2048537720</td>\n",
              "      <td>41554.0</td>\n",
              "      <td>29885.86</td>\n",
              "      <td>M1230701703</td>\n",
              "      <td>0.0</td>\n",
              "      <td>0.0</td>\n",
              "      <td>0</td>\n",
              "      <td>0</td>\n",
              "    </tr>\n",
              "  </tbody>\n",
              "</table>\n",
              "</div>"
            ],
            "text/plain": [
              "   step      type    amount  ... newbalanceDest  isFraud  isFlaggedFraud\n",
              "0     1   PAYMENT   9839.64  ...            0.0        0               0\n",
              "1     1   PAYMENT   1864.28  ...            0.0        0               0\n",
              "2     1  TRANSFER    181.00  ...            0.0        1               0\n",
              "3     1  CASH_OUT    181.00  ...            0.0        1               0\n",
              "4     1   PAYMENT  11668.14  ...            0.0        0               0\n",
              "\n",
              "[5 rows x 11 columns]"
            ]
          },
          "metadata": {
            "tags": []
          },
          "execution_count": 13
        }
      ]
    },
    {
      "cell_type": "markdown",
      "metadata": {
        "id": "E9N0Z0_Y634K"
      },
      "source": [
        "- step: Asigna una unidad de tiempo en el mundo real. Representa la hora y fecha en la que se realizó la transacción\n",
        "- type: Cash-in, Cash-out, debito, pago, transferencia\n",
        "- amount: Monto de la transacción\n",
        "- nameOrig: Cliente que inició la transacción\n",
        "- oldbalanceOrg: Saldo inicial del remitente antes de la transacción\n",
        "- newbalanceOrig: Nuevo saldo del remitente después de la transacción\n",
        "- nameDest: Cliente destinatario de la transacción\n",
        "- oldbalanceDest: Saldo inicial del destinatario antes de la transacción\n",
        "- newbalanceDest: Nuevo saldo del destinatario después de la transacción\n",
        "- isFlaggedFraud: Intentos ilegales. Un intento ilegal en este conjunto de datos es un intento de transferir más de 200.000 en una sola transacción\n",
        "- isFraud: Variable respuesta, donde 1 representa una transacción fraudulenta\n"
      ]
    },
    {
      "cell_type": "code",
      "metadata": {
        "colab": {
          "base_uri": "https://localhost:8080/"
        },
        "id": "rTu-UkzIip-n",
        "outputId": "21479167-9c1e-4bf2-92fa-f59cc7066fb3"
      },
      "source": [
        "datos.isnull().values.any()"
      ],
      "execution_count": null,
      "outputs": [
        {
          "output_type": "execute_result",
          "data": {
            "text/plain": [
              "False"
            ]
          },
          "metadata": {
            "tags": []
          },
          "execution_count": 14
        }
      ]
    },
    {
      "cell_type": "code",
      "metadata": {
        "colab": {
          "base_uri": "https://localhost:8080/"
        },
        "id": "C8fp5bNPnIlc",
        "outputId": "ecd20d80-9495-412f-dcfe-84d6107fae04"
      },
      "source": [
        "datos.info()"
      ],
      "execution_count": null,
      "outputs": [
        {
          "output_type": "stream",
          "text": [
            "<class 'pandas.core.frame.DataFrame'>\n",
            "RangeIndex: 6362620 entries, 0 to 6362619\n",
            "Data columns (total 11 columns):\n",
            " #   Column          Dtype  \n",
            "---  ------          -----  \n",
            " 0   step            int64  \n",
            " 1   type            object \n",
            " 2   amount          float64\n",
            " 3   nameOrig        object \n",
            " 4   oldbalanceOrg   float64\n",
            " 5   newbalanceOrig  float64\n",
            " 6   nameDest        object \n",
            " 7   oldbalanceDest  float64\n",
            " 8   newbalanceDest  float64\n",
            " 9   isFraud         int64  \n",
            " 10  isFlaggedFraud  int64  \n",
            "dtypes: float64(5), int64(3), object(3)\n",
            "memory usage: 534.0+ MB\n"
          ],
          "name": "stdout"
        }
      ]
    },
    {
      "cell_type": "code",
      "metadata": {
        "colab": {
          "base_uri": "https://localhost:8080/",
          "height": 365
        },
        "id": "K7fLz04ZCzKY",
        "outputId": "4a430c8b-60b0-4981-fbeb-efb6e9c62034"
      },
      "source": [
        "sns.countplot(datos.type)"
      ],
      "execution_count": null,
      "outputs": [
        {
          "output_type": "stream",
          "text": [
            "/usr/local/lib/python3.7/dist-packages/seaborn/_decorators.py:43: FutureWarning: Pass the following variable as a keyword arg: x. From version 0.12, the only valid positional argument will be `data`, and passing other arguments without an explicit keyword will result in an error or misinterpretation.\n",
            "  FutureWarning\n"
          ],
          "name": "stderr"
        },
        {
          "output_type": "execute_result",
          "data": {
            "text/plain": [
              "<matplotlib.axes._subplots.AxesSubplot at 0x7fb44a2f8ad0>"
            ]
          },
          "metadata": {
            "tags": []
          },
          "execution_count": 16
        },
        {
          "output_type": "display_data",
          "data": {
            "image/png": "[encoded data removed]",
            "text/plain": [
              "<Figure size 432x288 with 1 Axes>"
            ]
          },
          "metadata": {
            "tags": [],
            "needs_background": "light"
          }
        }
      ]
    },
    {
      "cell_type": "code",
      "metadata": {
        "colab": {
          "base_uri": "https://localhost:8080/",
          "height": 318
        },
        "id": "gUC_4MVFn9Jc",
        "outputId": "890fd667-8e61-430e-8649-3e241dfb047a"
      },
      "source": [
        "datos[[\"type\",\n",
        "    \"amount\",\n",
        "    \"oldbalanceOrg\",\n",
        "    \"newbalanceOrig\",\n",
        "    \"oldbalanceDest\",\n",
        "    \"newbalanceDest\",\n",
        "    'isFraud']].groupby([\"type\",\"isFraud\"]).agg(['count','mean'])"
      ],
      "execution_count": null,
      "outputs": [
        {
          "output_type": "execute_result",
          "data": {
            "text/html": [
              "<div>\n",
              "<style scoped>\n",
              "    .dataframe tbody tr th:only-of-type {\n",
              "        vertical-align: middle;\n",
              "    }\n",
              "\n",
              "    .dataframe tbody tr th {\n",
              "        vertical-align: top;\n",
              "    }\n",
              "\n",
              "    .dataframe thead tr th {\n",
              "        text-align: left;\n",
              "    }\n",
              "\n",
              "    .dataframe thead tr:last-of-type th {\n",
              "        text-align: right;\n",
              "    }\n",
              "</style>\n",
              "<table border=\"1\" class=\"dataframe\">\n",
              "  <thead>\n",
              "    <tr>\n",
              "      <th></th>\n",
              "      <th></th>\n",
              "      <th colspan=\"2\" halign=\"left\">amount</th>\n",
              "      <th colspan=\"2\" halign=\"left\">oldbalanceOrg</th>\n",
              "      <th colspan=\"2\" halign=\"left\">newbalanceOrig</th>\n",
              "      <th colspan=\"2\" halign=\"left\">oldbalanceDest</th>\n",
              "      <th colspan=\"2\" halign=\"left\">newbalanceDest</th>\n",
              "    </tr>\n",
              "    <tr>\n",
              "      <th></th>\n",
              "      <th></th>\n",
              "      <th>count</th>\n",
              "      <th>mean</th>\n",
              "      <th>count</th>\n",
              "      <th>mean</th>\n",
              "      <th>count</th>\n",
              "      <th>mean</th>\n",
              "      <th>count</th>\n",
              "      <th>mean</th>\n",
              "      <th>count</th>\n",
              "      <th>mean</th>\n",
              "    </tr>\n",
              "    <tr>\n",
              "      <th>type</th>\n",
              "      <th>isFraud</th>\n",
              "      <th></th>\n",
              "      <th></th>\n",
              "      <th></th>\n",
              "      <th></th>\n",
              "      <th></th>\n",
              "      <th></th>\n",
              "      <th></th>\n",
              "      <th></th>\n",
              "      <th></th>\n",
              "      <th></th>\n",
              "    </tr>\n",
              "  </thead>\n",
              "  <tbody>\n",
              "    <tr>\n",
              "      <th>CASH_IN</th>\n",
              "      <th>0</th>\n",
              "      <td>1399284</td>\n",
              "      <td>1.689202e+05</td>\n",
              "      <td>1399284</td>\n",
              "      <td>3.590464e+06</td>\n",
              "      <td>1399284</td>\n",
              "      <td>3.759379e+06</td>\n",
              "      <td>1399284</td>\n",
              "      <td>1.587919e+06</td>\n",
              "      <td>1399284</td>\n",
              "      <td>1.467105e+06</td>\n",
              "    </tr>\n",
              "    <tr>\n",
              "      <th rowspan=\"2\" valign=\"top\">CASH_OUT</th>\n",
              "      <th>0</th>\n",
              "      <td>2233384</td>\n",
              "      <td>1.739172e+05</td>\n",
              "      <td>2233384</td>\n",
              "      <td>4.342923e+04</td>\n",
              "      <td>2233384</td>\n",
              "      <td>1.750626e+04</td>\n",
              "      <td>2233384</td>\n",
              "      <td>1.498519e+06</td>\n",
              "      <td>2233384</td>\n",
              "      <td>1.689744e+06</td>\n",
              "    </tr>\n",
              "    <tr>\n",
              "      <th>1</th>\n",
              "      <td>4116</td>\n",
              "      <td>1.455103e+06</td>\n",
              "      <td>4116</td>\n",
              "      <td>1.453869e+06</td>\n",
              "      <td>4116</td>\n",
              "      <td>7.258688e+01</td>\n",
              "      <td>4116</td>\n",
              "      <td>1.084918e+06</td>\n",
              "      <td>4116</td>\n",
              "      <td>2.549545e+06</td>\n",
              "    </tr>\n",
              "    <tr>\n",
              "      <th>DEBIT</th>\n",
              "      <th>0</th>\n",
              "      <td>41432</td>\n",
              "      <td>5.483665e+03</td>\n",
              "      <td>41432</td>\n",
              "      <td>6.864734e+04</td>\n",
              "      <td>41432</td>\n",
              "      <td>6.516165e+04</td>\n",
              "      <td>41432</td>\n",
              "      <td>1.493136e+06</td>\n",
              "      <td>41432</td>\n",
              "      <td>1.513003e+06</td>\n",
              "    </tr>\n",
              "    <tr>\n",
              "      <th>PAYMENT</th>\n",
              "      <th>0</th>\n",
              "      <td>2151495</td>\n",
              "      <td>1.305760e+04</td>\n",
              "      <td>2151495</td>\n",
              "      <td>6.821683e+04</td>\n",
              "      <td>2151495</td>\n",
              "      <td>6.183789e+04</td>\n",
              "      <td>2151495</td>\n",
              "      <td>0.000000e+00</td>\n",
              "      <td>2151495</td>\n",
              "      <td>0.000000e+00</td>\n",
              "    </tr>\n",
              "    <tr>\n",
              "      <th rowspan=\"2\" valign=\"top\">TRANSFER</th>\n",
              "      <th>0</th>\n",
              "      <td>528812</td>\n",
              "      <td>9.062290e+05</td>\n",
              "      <td>528812</td>\n",
              "      <td>4.055876e+04</td>\n",
              "      <td>528812</td>\n",
              "      <td>7.380372e+03</td>\n",
              "      <td>528812</td>\n",
              "      <td>2.587490e+06</td>\n",
              "      <td>528812</td>\n",
              "      <td>3.582075e+06</td>\n",
              "    </tr>\n",
              "    <tr>\n",
              "      <th>1</th>\n",
              "      <td>4097</td>\n",
              "      <td>1.480892e+06</td>\n",
              "      <td>4097</td>\n",
              "      <td>1.846374e+06</td>\n",
              "      <td>4097</td>\n",
              "      <td>3.856046e+05</td>\n",
              "      <td>4097</td>\n",
              "      <td>1.073383e+03</td>\n",
              "      <td>4097</td>\n",
              "      <td>3.981411e+03</td>\n",
              "    </tr>\n",
              "  </tbody>\n",
              "</table>\n",
              "</div>"
            ],
            "text/plain": [
              "                   amount                ... newbalanceDest              \n",
              "                    count          mean  ...          count          mean\n",
              "type     isFraud                         ...                             \n",
              "CASH_IN  0        1399284  1.689202e+05  ...        1399284  1.467105e+06\n",
              "CASH_OUT 0        2233384  1.739172e+05  ...        2233384  1.689744e+06\n",
              "         1           4116  1.455103e+06  ...           4116  2.549545e+06\n",
              "DEBIT    0          41432  5.483665e+03  ...          41432  1.513003e+06\n",
              "PAYMENT  0        2151495  1.305760e+04  ...        2151495  0.000000e+00\n",
              "TRANSFER 0         528812  9.062290e+05  ...         528812  3.582075e+06\n",
              "         1           4097  1.480892e+06  ...           4097  3.981411e+03\n",
              "\n",
              "[7 rows x 10 columns]"
            ]
          },
          "metadata": {
            "tags": []
          },
          "execution_count": 17
        }
      ]
    },
    {
      "cell_type": "markdown",
      "metadata": {
        "id": "B0revgv7uUyD"
      },
      "source": [
        "**El número de TRANSFERENCIAS fraudulentas casi iguala al número de CASH_OUT fraudulentos**"
      ]
    },
    {
      "cell_type": "code",
      "metadata": {
        "colab": {
          "base_uri": "https://localhost:8080/"
        },
        "id": "d4k88QgStn7D",
        "outputId": "b2bfe45f-dc8c-4445-e05c-9d37cd1d6e7f"
      },
      "source": [
        "print('\\n El tipo de transacciones fraudulentas son {}'.format(\\\n",
        "list(datos.loc[datos.isFraud == 1].type.drop_duplicates().values))) # solo 'CASH_OUT' # & 'TRANSFER'\n",
        "\n",
        "dfFraudTransfer = datos.loc[(datos.isFraud == 1) & (datos.type == 'TRANSFER')]\n",
        "dfFraudCashout = datos.loc[(datos.isFraud == 1) & (datos.type == 'CASH_OUT')]\n",
        "\n",
        "print ('\\n El número de TRANSFER fraudulentas = {}'.\\\n",
        "       format(len(dfFraudTransfer))) # 4097\n",
        "\n",
        "print ('\\n El número de CASH_OUTs fraudulentas = {}'.\\\n",
        "       format(len(dfFraudCashout))) # 4116"
      ],
      "execution_count": null,
      "outputs": [
        {
          "output_type": "stream",
          "text": [
            "\n",
            " El tipo de transacciones fraudulentas son ['TRANSFER', 'CASH_OUT']\n",
            "\n",
            " El número de TRANSFER fraudulentas = 4097\n",
            "\n",
            " El número de CASH_OUTs fraudulentas = 4116\n"
          ],
          "name": "stdout"
        }
      ]
    },
    {
      "cell_type": "code",
      "metadata": {
        "colab": {
          "base_uri": "https://localhost:8080/"
        },
        "id": "J0bUrYlKvz_N",
        "outputId": "ce4f19b3-f7ce-4447-8a1b-419829327c5a"
      },
      "source": [
        "print('\\nEl tipo de transacciones en las que se establece isFlaggedFraud es: \\\n",
        "{}'.format(list(datos.loc[datos.isFlaggedFraud == 1].type.drop_duplicates()))) # solo 'TRANSFER'\n",
        "\n",
        "dfTransfer = datos.loc[datos.type == 'TRANSFER']\n",
        "dfFlagged = datos.loc[datos.isFlaggedFraud == 1]\n",
        "dfNotFlagged = datos.loc[datos.isFlaggedFraud == 0]\n",
        "\n",
        "print('\\nCantidad mínima transada con isFlaggedFraud establecido= {}'\\\n",
        "                                  .format(dfFlagged.amount.min())) # 353874.22\n",
        "\n",
        "print('\\nCantidad maxima transferida cuando isFlaggedFraud no está establecido=\\\n",
        " {}'.format(dfTransfer.loc[dfTransfer.isFlaggedFraud == 0].amount.max())) # 924"
      ],
      "execution_count": null,
      "outputs": [
        {
          "output_type": "stream",
          "text": [
            "\n",
            "El tipo de transacciones en las que se establece isFlaggedFraud es: ['TRANSFER']\n",
            "\n",
            "Cantidad mínima transada con isFlaggedFraud establecido= 353874.22\n",
            "\n",
            "Cantidad maxima transferida cuando isFlaggedFraud no está establecido= 92445516.64\n"
          ],
          "name": "stdout"
        }
      ]
    },
    {
      "cell_type": "code",
      "metadata": {
        "colab": {
          "base_uri": "https://localhost:8080/"
        },
        "id": "ONUryhAHxwpE",
        "outputId": "fe18aaf3-4062-4238-f97d-897f5ad03ec0"
      },
      "source": [
        "print('Hay comerciantes entre las cuentas originales de la transacciones CASH_IN? {}'.format(\\\n",
        "(datos.loc[datos.type == 'CASH_IN'].nameOrig.str.contains('M')).any())) "
      ],
      "execution_count": null,
      "outputs": [
        {
          "output_type": "stream",
          "text": [
            "Hay comerciantes entre las cuentas originales de la transacciones CASH_IN? False\n"
          ],
          "name": "stdout"
        }
      ]
    },
    {
      "cell_type": "code",
      "metadata": {
        "colab": {
          "base_uri": "https://localhost:8080/"
        },
        "id": "TAYxW97Ny_T3",
        "outputId": "6b614395-15a0-4475-d65b-354e88c2fbf1"
      },
      "source": [
        "print('Hay comerciantes entre las cuentas originales de la transacciones CASH_OUT? {}'.format(\\\n",
        "(datos.loc[datos.type == 'CASH_OUT'].nameOrig.str.contains('M')).any())) "
      ],
      "execution_count": null,
      "outputs": [
        {
          "output_type": "stream",
          "text": [
            "Hay comerciantes entre las cuentas originales de la transacciones CASH_OUT? False\n"
          ],
          "name": "stdout"
        }
      ]
    },
    {
      "cell_type": "code",
      "metadata": {
        "colab": {
          "base_uri": "https://localhost:8080/",
          "height": 218
        },
        "id": "mi56PbX8zNPb",
        "outputId": "dcc4c46a-0d7b-4e59-8771-d8cebe4f03de"
      },
      "source": [
        "cash = datos[(datos.type ==\"CASH_OUT\") | (datos.type  ==\"CASH_IN\")]\n",
        "cash.head(5)\n"
      ],
      "execution_count": null,
      "outputs": [
        {
          "output_type": "execute_result",
          "data": {
            "text/html": [
              "<div>\n",
              "<style scoped>\n",
              "    .dataframe tbody tr th:only-of-type {\n",
              "        vertical-align: middle;\n",
              "    }\n",
              "\n",
              "    .dataframe tbody tr th {\n",
              "        vertical-align: top;\n",
              "    }\n",
              "\n",
              "    .dataframe thead th {\n",
              "        text-align: right;\n",
              "    }\n",
              "</style>\n",
              "<table border=\"1\" class=\"dataframe\">\n",
              "  <thead>\n",
              "    <tr style=\"text-align: right;\">\n",
              "      <th></th>\n",
              "      <th>step</th>\n",
              "      <th>type</th>\n",
              "      <th>amount</th>\n",
              "      <th>nameOrig</th>\n",
              "      <th>oldbalanceOrg</th>\n",
              "      <th>newbalanceOrig</th>\n",
              "      <th>nameDest</th>\n",
              "      <th>oldbalanceDest</th>\n",
              "      <th>newbalanceDest</th>\n",
              "      <th>isFraud</th>\n",
              "      <th>isFlaggedFraud</th>\n",
              "    </tr>\n",
              "  </thead>\n",
              "  <tbody>\n",
              "    <tr>\n",
              "      <th>3</th>\n",
              "      <td>1</td>\n",
              "      <td>CASH_OUT</td>\n",
              "      <td>181.00</td>\n",
              "      <td>C840083671</td>\n",
              "      <td>181.00</td>\n",
              "      <td>0.0</td>\n",
              "      <td>C38997010</td>\n",
              "      <td>21182.0</td>\n",
              "      <td>0.00</td>\n",
              "      <td>1</td>\n",
              "      <td>0</td>\n",
              "    </tr>\n",
              "    <tr>\n",
              "      <th>15</th>\n",
              "      <td>1</td>\n",
              "      <td>CASH_OUT</td>\n",
              "      <td>229133.94</td>\n",
              "      <td>C905080434</td>\n",
              "      <td>15325.00</td>\n",
              "      <td>0.0</td>\n",
              "      <td>C476402209</td>\n",
              "      <td>5083.0</td>\n",
              "      <td>51513.44</td>\n",
              "      <td>0</td>\n",
              "      <td>0</td>\n",
              "    </tr>\n",
              "    <tr>\n",
              "      <th>42</th>\n",
              "      <td>1</td>\n",
              "      <td>CASH_OUT</td>\n",
              "      <td>110414.71</td>\n",
              "      <td>C768216420</td>\n",
              "      <td>26845.41</td>\n",
              "      <td>0.0</td>\n",
              "      <td>C1509514333</td>\n",
              "      <td>288800.0</td>\n",
              "      <td>2415.16</td>\n",
              "      <td>0</td>\n",
              "      <td>0</td>\n",
              "    </tr>\n",
              "    <tr>\n",
              "      <th>47</th>\n",
              "      <td>1</td>\n",
              "      <td>CASH_OUT</td>\n",
              "      <td>56953.90</td>\n",
              "      <td>C1570470538</td>\n",
              "      <td>1942.02</td>\n",
              "      <td>0.0</td>\n",
              "      <td>C824009085</td>\n",
              "      <td>70253.0</td>\n",
              "      <td>64106.18</td>\n",
              "      <td>0</td>\n",
              "      <td>0</td>\n",
              "    </tr>\n",
              "    <tr>\n",
              "      <th>48</th>\n",
              "      <td>1</td>\n",
              "      <td>CASH_OUT</td>\n",
              "      <td>5346.89</td>\n",
              "      <td>C512549200</td>\n",
              "      <td>0.00</td>\n",
              "      <td>0.0</td>\n",
              "      <td>C248609774</td>\n",
              "      <td>652637.0</td>\n",
              "      <td>6453430.91</td>\n",
              "      <td>0</td>\n",
              "      <td>0</td>\n",
              "    </tr>\n",
              "  </tbody>\n",
              "</table>\n",
              "</div>"
            ],
            "text/plain": [
              "    step      type     amount  ... newbalanceDest  isFraud  isFlaggedFraud\n",
              "3      1  CASH_OUT     181.00  ...           0.00        1               0\n",
              "15     1  CASH_OUT  229133.94  ...       51513.44        0               0\n",
              "42     1  CASH_OUT  110414.71  ...        2415.16        0               0\n",
              "47     1  CASH_OUT   56953.90  ...       64106.18        0               0\n",
              "48     1  CASH_OUT    5346.89  ...     6453430.91        0               0\n",
              "\n",
              "[5 rows x 11 columns]"
            ]
          },
          "metadata": {
            "tags": []
          },
          "execution_count": 20
        }
      ]
    },
    {
      "cell_type": "code",
      "metadata": {
        "colab": {
          "base_uri": "https://localhost:8080/"
        },
        "id": "8ct_kvis3449",
        "outputId": "ffc4dcc9-0ebf-4aa3-b6b2-22524d9025bc"
      },
      "source": [
        "cash1 = cash[cash['nameOrig'].str.contains('C')]\n",
        "cash1.count()"
      ],
      "execution_count": null,
      "outputs": [
        {
          "output_type": "execute_result",
          "data": {
            "text/plain": [
              "step              3636784\n",
              "type              3636784\n",
              "amount            3636784\n",
              "nameOrig          3636784\n",
              "oldbalanceOrg     3636784\n",
              "newbalanceOrig    3636784\n",
              "nameDest          3636784\n",
              "oldbalanceDest    3636784\n",
              "newbalanceDest    3636784\n",
              "isFraud           3636784\n",
              "isFlaggedFraud    3636784\n",
              "dtype: int64"
            ]
          },
          "metadata": {
            "tags": []
          },
          "execution_count": 21
        }
      ]
    },
    {
      "cell_type": "code",
      "metadata": {
        "colab": {
          "base_uri": "https://localhost:8080/"
        },
        "id": "heALQcNyIzIt",
        "outputId": "58472c88-cf92-4482-91e8-4aa82e19eedc"
      },
      "source": [
        "cash2 = datos.loc[datos.type == 'CASH_IN'].nameOrig.str.get(0)\n",
        "print(cash2)"
      ],
      "execution_count": null,
      "outputs": [
        {
          "output_type": "stream",
          "text": [
            "389        C\n",
            "390        C\n",
            "391        C\n",
            "392        C\n",
            "393        C\n",
            "          ..\n",
            "6362253    C\n",
            "6362271    C\n",
            "6362279    C\n",
            "6362298    C\n",
            "6362315    C\n",
            "Name: nameOrig, Length: 1399284, dtype: object\n"
          ],
          "name": "stdout"
        }
      ]
    },
    {
      "cell_type": "code",
      "metadata": {
        "colab": {
          "base_uri": "https://localhost:8080/"
        },
        "id": "d_CQqlvP8_NR",
        "outputId": "fd8c7957-aaf5-444e-96be-6730ddb632c6"
      },
      "source": [
        "cash.shape"
      ],
      "execution_count": null,
      "outputs": [
        {
          "output_type": "execute_result",
          "data": {
            "text/plain": [
              "(3636784, 11)"
            ]
          },
          "metadata": {
            "tags": []
          },
          "execution_count": 23
        }
      ]
    },
    {
      "cell_type": "markdown",
      "metadata": {
        "id": "DoZOtmCph9Dk"
      },
      "source": [
        "**Histograma de la variable objetivo tomando los datos originales**"
      ]
    },
    {
      "cell_type": "code",
      "metadata": {
        "colab": {
          "base_uri": "https://localhost:8080/",
          "height": 295
        },
        "id": "KHbbD8Zf9XHV",
        "outputId": "a0197f35-b9ff-4b0e-eb11-d77329833c82"
      },
      "source": [
        "datos['isFraud'].hist()"
      ],
      "execution_count": null,
      "outputs": [
        {
          "output_type": "execute_result",
          "data": {
            "text/plain": [
              "<matplotlib.axes._subplots.AxesSubplot at 0x7fb41a6554d0>"
            ]
          },
          "metadata": {
            "tags": []
          },
          "execution_count": 24
        },
        {
          "output_type": "display_data",
          "data": {
            "image/png": "[encoded data removed]",
            "text/plain": [
              "<Figure size 432x288 with 1 Axes>"
            ]
          },
          "metadata": {
            "tags": [],
            "needs_background": "light"
          }
        }
      ]
    },
    {
      "cell_type": "code",
      "metadata": {
        "colab": {
          "base_uri": "https://localhost:8080/"
        },
        "id": "WoYlFGLVDJ8T",
        "outputId": "4b49c30c-f50c-4605-faca-980885f6c8a1"
      },
      "source": [
        "datos[\"isFraud\"].value_counts()"
      ],
      "execution_count": null,
      "outputs": [
        {
          "output_type": "execute_result",
          "data": {
            "text/plain": [
              "0    6354407\n",
              "1       8213\n",
              "Name: isFraud, dtype: int64"
            ]
          },
          "metadata": {
            "tags": []
          },
          "execution_count": 25
        }
      ]
    },
    {
      "cell_type": "markdown",
      "metadata": {
        "id": "OIr9R40pCaIS"
      },
      "source": [
        "**Teniendo en cuenta el análisis anterior, solo se tendrá en cuenta los tipos de transacciones: TRANSFER y CASH_OUT**"
      ]
    },
    {
      "cell_type": "code",
      "metadata": {
        "id": "4tR6qbudEllQ"
      },
      "source": [
        "X = datos.loc[(datos.type == 'TRANSFER') | (datos.type == 'CASH_OUT')]"
      ],
      "execution_count": null,
      "outputs": []
    },
    {
      "cell_type": "markdown",
      "metadata": {
        "id": "Ehw5emq0iqc5"
      },
      "source": [
        "**Eliminamos las variables que consideramos que son menos significativas**"
      ]
    },
    {
      "cell_type": "code",
      "metadata": {
        "id": "1KySoBssGOoY"
      },
      "source": [
        "X = X.drop(['nameOrig', 'nameDest', 'isFlaggedFraud'], axis = 1)"
      ],
      "execution_count": null,
      "outputs": []
    },
    {
      "cell_type": "code",
      "metadata": {
        "id": "g2JZwiuYGW0C"
      },
      "source": [
        "X.loc[X.type == 'TRANSFER', 'type'] = 0\n",
        "X.loc[X.type == 'CASH_OUT', 'type'] = 1\n",
        "X.type = X.type.astype(int) "
      ],
      "execution_count": null,
      "outputs": []
    },
    {
      "cell_type": "code",
      "metadata": {
        "colab": {
          "base_uri": "https://localhost:8080/",
          "height": 407
        },
        "id": "FAdBo_PsGgK5",
        "outputId": "50df9d38-3627-4718-e815-27cc464a2178"
      },
      "source": [
        "X"
      ],
      "execution_count": null,
      "outputs": [
        {
          "output_type": "execute_result",
          "data": {
            "text/html": [
              "<div>\n",
              "<style scoped>\n",
              "    .dataframe tbody tr th:only-of-type {\n",
              "        vertical-align: middle;\n",
              "    }\n",
              "\n",
              "    .dataframe tbody tr th {\n",
              "        vertical-align: top;\n",
              "    }\n",
              "\n",
              "    .dataframe thead th {\n",
              "        text-align: right;\n",
              "    }\n",
              "</style>\n",
              "<table border=\"1\" class=\"dataframe\">\n",
              "  <thead>\n",
              "    <tr style=\"text-align: right;\">\n",
              "      <th></th>\n",
              "      <th>step</th>\n",
              "      <th>type</th>\n",
              "      <th>amount</th>\n",
              "      <th>oldbalanceOrg</th>\n",
              "      <th>newbalanceOrig</th>\n",
              "      <th>oldbalanceDest</th>\n",
              "      <th>newbalanceDest</th>\n",
              "      <th>isFraud</th>\n",
              "    </tr>\n",
              "  </thead>\n",
              "  <tbody>\n",
              "    <tr>\n",
              "      <th>2</th>\n",
              "      <td>1</td>\n",
              "      <td>0</td>\n",
              "      <td>181.00</td>\n",
              "      <td>181.00</td>\n",
              "      <td>0.0</td>\n",
              "      <td>0.00</td>\n",
              "      <td>0.00</td>\n",
              "      <td>1</td>\n",
              "    </tr>\n",
              "    <tr>\n",
              "      <th>3</th>\n",
              "      <td>1</td>\n",
              "      <td>1</td>\n",
              "      <td>181.00</td>\n",
              "      <td>181.00</td>\n",
              "      <td>0.0</td>\n",
              "      <td>21182.00</td>\n",
              "      <td>0.00</td>\n",
              "      <td>1</td>\n",
              "    </tr>\n",
              "    <tr>\n",
              "      <th>15</th>\n",
              "      <td>1</td>\n",
              "      <td>1</td>\n",
              "      <td>229133.94</td>\n",
              "      <td>15325.00</td>\n",
              "      <td>0.0</td>\n",
              "      <td>5083.00</td>\n",
              "      <td>51513.44</td>\n",
              "      <td>0</td>\n",
              "    </tr>\n",
              "    <tr>\n",
              "      <th>19</th>\n",
              "      <td>1</td>\n",
              "      <td>0</td>\n",
              "      <td>215310.30</td>\n",
              "      <td>705.00</td>\n",
              "      <td>0.0</td>\n",
              "      <td>22425.00</td>\n",
              "      <td>0.00</td>\n",
              "      <td>0</td>\n",
              "    </tr>\n",
              "    <tr>\n",
              "      <th>24</th>\n",
              "      <td>1</td>\n",
              "      <td>0</td>\n",
              "      <td>311685.89</td>\n",
              "      <td>10835.00</td>\n",
              "      <td>0.0</td>\n",
              "      <td>6267.00</td>\n",
              "      <td>2719172.89</td>\n",
              "      <td>0</td>\n",
              "    </tr>\n",
              "    <tr>\n",
              "      <th>...</th>\n",
              "      <td>...</td>\n",
              "      <td>...</td>\n",
              "      <td>...</td>\n",
              "      <td>...</td>\n",
              "      <td>...</td>\n",
              "      <td>...</td>\n",
              "      <td>...</td>\n",
              "      <td>...</td>\n",
              "    </tr>\n",
              "    <tr>\n",
              "      <th>6362615</th>\n",
              "      <td>743</td>\n",
              "      <td>1</td>\n",
              "      <td>339682.13</td>\n",
              "      <td>339682.13</td>\n",
              "      <td>0.0</td>\n",
              "      <td>0.00</td>\n",
              "      <td>339682.13</td>\n",
              "      <td>1</td>\n",
              "    </tr>\n",
              "    <tr>\n",
              "      <th>6362616</th>\n",
              "      <td>743</td>\n",
              "      <td>0</td>\n",
              "      <td>6311409.28</td>\n",
              "      <td>6311409.28</td>\n",
              "      <td>0.0</td>\n",
              "      <td>0.00</td>\n",
              "      <td>0.00</td>\n",
              "      <td>1</td>\n",
              "    </tr>\n",
              "    <tr>\n",
              "      <th>6362617</th>\n",
              "      <td>743</td>\n",
              "      <td>1</td>\n",
              "      <td>6311409.28</td>\n",
              "      <td>6311409.28</td>\n",
              "      <td>0.0</td>\n",
              "      <td>68488.84</td>\n",
              "      <td>6379898.11</td>\n",
              "      <td>1</td>\n",
              "    </tr>\n",
              "    <tr>\n",
              "      <th>6362618</th>\n",
              "      <td>743</td>\n",
              "      <td>0</td>\n",
              "      <td>850002.52</td>\n",
              "      <td>850002.52</td>\n",
              "      <td>0.0</td>\n",
              "      <td>0.00</td>\n",
              "      <td>0.00</td>\n",
              "      <td>1</td>\n",
              "    </tr>\n",
              "    <tr>\n",
              "      <th>6362619</th>\n",
              "      <td>743</td>\n",
              "      <td>1</td>\n",
              "      <td>850002.52</td>\n",
              "      <td>850002.52</td>\n",
              "      <td>0.0</td>\n",
              "      <td>6510099.11</td>\n",
              "      <td>7360101.63</td>\n",
              "      <td>1</td>\n",
              "    </tr>\n",
              "  </tbody>\n",
              "</table>\n",
              "<p>2770409 rows × 8 columns</p>\n",
              "</div>"
            ],
            "text/plain": [
              "         step  type      amount  ...  oldbalanceDest  newbalanceDest  isFraud\n",
              "2           1     0      181.00  ...            0.00            0.00        1\n",
              "3           1     1      181.00  ...        21182.00            0.00        1\n",
              "15          1     1   229133.94  ...         5083.00        51513.44        0\n",
              "19          1     0   215310.30  ...        22425.00            0.00        0\n",
              "24          1     0   311685.89  ...         6267.00      2719172.89        0\n",
              "...       ...   ...         ...  ...             ...             ...      ...\n",
              "6362615   743     1   339682.13  ...            0.00       339682.13        1\n",
              "6362616   743     0  6311409.28  ...            0.00            0.00        1\n",
              "6362617   743     1  6311409.28  ...        68488.84      6379898.11        1\n",
              "6362618   743     0   850002.52  ...            0.00            0.00        1\n",
              "6362619   743     1   850002.52  ...      6510099.11      7360101.63        1\n",
              "\n",
              "[2770409 rows x 8 columns]"
            ]
          },
          "metadata": {
            "tags": []
          },
          "execution_count": 29
        }
      ]
    },
    {
      "cell_type": "markdown",
      "metadata": {
        "id": "rP2Wsi5kiUwo"
      },
      "source": [
        "**Verificamos que ninguna variable tenga desviación estándar cero:**"
      ]
    },
    {
      "cell_type": "code",
      "metadata": {
        "colab": {
          "base_uri": "https://localhost:8080/"
        },
        "id": "HaDM6Yo_iLhc",
        "outputId": "36b446e6-b157-43fa-9546-995a525d0d1b"
      },
      "source": [
        "X.std(axis=0)"
      ],
      "execution_count": null,
      "outputs": [
        {
          "output_type": "execute_result",
          "data": {
            "text/plain": [
              "step              1.416191e+02\n",
              "type              3.941525e-01\n",
              "amount            8.877897e+05\n",
              "oldbalanceOrg     2.513251e+05\n",
              "newbalanceOrig    1.512558e+05\n",
              "oldbalanceDest    4.225550e+06\n",
              "newbalanceDest    4.676990e+06\n",
              "isFraud           5.436687e-02\n",
              "dtype: float64"
            ]
          },
          "metadata": {
            "tags": []
          },
          "execution_count": 30
        }
      ]
    },
    {
      "cell_type": "markdown",
      "metadata": {
        "id": "XTG03nFOjQss"
      },
      "source": [
        "**Histograma de la variable objetivo tomando los datos finales**"
      ]
    },
    {
      "cell_type": "code",
      "metadata": {
        "colab": {
          "base_uri": "https://localhost:8080/",
          "height": 295
        },
        "id": "5SipS_-XjCA5",
        "outputId": "3d5aafc6-c475-48b7-92dd-7c6b0c673916"
      },
      "source": [
        "X['isFraud'].hist()"
      ],
      "execution_count": null,
      "outputs": [
        {
          "output_type": "execute_result",
          "data": {
            "text/plain": [
              "<matplotlib.axes._subplots.AxesSubplot at 0x7fb41a57fd50>"
            ]
          },
          "metadata": {
            "tags": []
          },
          "execution_count": 31
        },
        {
          "output_type": "display_data",
          "data": {
            "image/png": "[encoded data removed]",
            "text/plain": [
              "<Figure size 432x288 with 1 Axes>"
            ]
          },
          "metadata": {
            "tags": [],
            "needs_background": "light"
          }
        }
      ]
    },
    {
      "cell_type": "code",
      "metadata": {
        "colab": {
          "base_uri": "https://localhost:8080/"
        },
        "id": "re5WzCMxjPbl",
        "outputId": "7d217f36-5019-42a4-beef-86d3ced2a616"
      },
      "source": [
        "X[\"isFraud\"].value_counts()"
      ],
      "execution_count": null,
      "outputs": [
        {
          "output_type": "execute_result",
          "data": {
            "text/plain": [
              "0    2762196\n",
              "1       8213\n",
              "Name: isFraud, dtype: int64"
            ]
          },
          "metadata": {
            "tags": []
          },
          "execution_count": 32
        }
      ]
    },
    {
      "cell_type": "markdown",
      "metadata": {
        "id": "6vOszWG_5pO9"
      },
      "source": [
        "**Matriz de correlación**"
      ]
    },
    {
      "cell_type": "code",
      "metadata": {
        "colab": {
          "base_uri": "https://localhost:8080/",
          "height": 288
        },
        "id": "yEWUbiN-5onI",
        "outputId": "30f94baa-cdba-4605-c7c9-6672453999e8"
      },
      "source": [
        "X.corr()"
      ],
      "execution_count": null,
      "outputs": [
        {
          "output_type": "execute_result",
          "data": {
            "text/html": [
              "<div>\n",
              "<style scoped>\n",
              "    .dataframe tbody tr th:only-of-type {\n",
              "        vertical-align: middle;\n",
              "    }\n",
              "\n",
              "    .dataframe tbody tr th {\n",
              "        vertical-align: top;\n",
              "    }\n",
              "\n",
              "    .dataframe thead th {\n",
              "        text-align: right;\n",
              "    }\n",
              "</style>\n",
              "<table border=\"1\" class=\"dataframe\">\n",
              "  <thead>\n",
              "    <tr style=\"text-align: right;\">\n",
              "      <th></th>\n",
              "      <th>step</th>\n",
              "      <th>type</th>\n",
              "      <th>amount</th>\n",
              "      <th>oldbalanceOrg</th>\n",
              "      <th>newbalanceOrig</th>\n",
              "      <th>oldbalanceDest</th>\n",
              "      <th>newbalanceDest</th>\n",
              "      <th>isFraud</th>\n",
              "    </tr>\n",
              "  </thead>\n",
              "  <tbody>\n",
              "    <tr>\n",
              "      <th>step</th>\n",
              "      <td>1.000000</td>\n",
              "      <td>-0.016022</td>\n",
              "      <td>0.037007</td>\n",
              "      <td>0.005744</td>\n",
              "      <td>-0.011280</td>\n",
              "      <td>0.037778</td>\n",
              "      <td>0.037475</td>\n",
              "      <td>0.048671</td>\n",
              "    </tr>\n",
              "    <tr>\n",
              "      <th>type</th>\n",
              "      <td>-0.016022</td>\n",
              "      <td>1.000000</td>\n",
              "      <td>-0.326040</td>\n",
              "      <td>-0.013202</td>\n",
              "      <td>0.018726</td>\n",
              "      <td>-0.099794</td>\n",
              "      <td>-0.157024</td>\n",
              "      <td>-0.042400</td>\n",
              "    </tr>\n",
              "    <tr>\n",
              "      <th>amount</th>\n",
              "      <td>0.037007</td>\n",
              "      <td>-0.326040</td>\n",
              "      <td>1.000000</td>\n",
              "      <td>0.120389</td>\n",
              "      <td>0.018296</td>\n",
              "      <td>0.307133</td>\n",
              "      <td>0.497027</td>\n",
              "      <td>0.070660</td>\n",
              "    </tr>\n",
              "    <tr>\n",
              "      <th>oldbalanceOrg</th>\n",
              "      <td>0.005744</td>\n",
              "      <td>-0.013202</td>\n",
              "      <td>0.120389</td>\n",
              "      <td>1.000000</td>\n",
              "      <td>0.778826</td>\n",
              "      <td>-0.020403</td>\n",
              "      <td>-0.010029</td>\n",
              "      <td>0.347582</td>\n",
              "    </tr>\n",
              "    <tr>\n",
              "      <th>newbalanceOrig</th>\n",
              "      <td>-0.011280</td>\n",
              "      <td>0.018726</td>\n",
              "      <td>0.018296</td>\n",
              "      <td>0.778826</td>\n",
              "      <td>1.000000</td>\n",
              "      <td>-0.012277</td>\n",
              "      <td>-0.015439</td>\n",
              "      <td>0.063557</td>\n",
              "    </tr>\n",
              "    <tr>\n",
              "      <th>oldbalanceDest</th>\n",
              "      <td>0.037778</td>\n",
              "      <td>-0.099794</td>\n",
              "      <td>0.307133</td>\n",
              "      <td>-0.020403</td>\n",
              "      <td>-0.012277</td>\n",
              "      <td>1.000000</td>\n",
              "      <td>0.970060</td>\n",
              "      <td>-0.014960</td>\n",
              "    </tr>\n",
              "    <tr>\n",
              "      <th>newbalanceDest</th>\n",
              "      <td>0.037475</td>\n",
              "      <td>-0.157024</td>\n",
              "      <td>0.497027</td>\n",
              "      <td>-0.010029</td>\n",
              "      <td>-0.015439</td>\n",
              "      <td>0.970060</td>\n",
              "      <td>1.000000</td>\n",
              "      <td>-0.008978</td>\n",
              "    </tr>\n",
              "    <tr>\n",
              "      <th>isFraud</th>\n",
              "      <td>0.048671</td>\n",
              "      <td>-0.042400</td>\n",
              "      <td>0.070660</td>\n",
              "      <td>0.347582</td>\n",
              "      <td>0.063557</td>\n",
              "      <td>-0.014960</td>\n",
              "      <td>-0.008978</td>\n",
              "      <td>1.000000</td>\n",
              "    </tr>\n",
              "  </tbody>\n",
              "</table>\n",
              "</div>"
            ],
            "text/plain": [
              "                    step      type  ...  newbalanceDest   isFraud\n",
              "step            1.000000 -0.016022  ...        0.037475  0.048671\n",
              "type           -0.016022  1.000000  ...       -0.157024 -0.042400\n",
              "amount          0.037007 -0.326040  ...        0.497027  0.070660\n",
              "oldbalanceOrg   0.005744 -0.013202  ...       -0.010029  0.347582\n",
              "newbalanceOrig -0.011280  0.018726  ...       -0.015439  0.063557\n",
              "oldbalanceDest  0.037778 -0.099794  ...        0.970060 -0.014960\n",
              "newbalanceDest  0.037475 -0.157024  ...        1.000000 -0.008978\n",
              "isFraud         0.048671 -0.042400  ...       -0.008978  1.000000\n",
              "\n",
              "[8 rows x 8 columns]"
            ]
          },
          "metadata": {
            "tags": []
          },
          "execution_count": 33
        }
      ]
    },
    {
      "cell_type": "code",
      "metadata": {
        "colab": {
          "base_uri": "https://localhost:8080/",
          "height": 469
        },
        "id": "r3p6nGWWDMIg",
        "outputId": "5d189398-fbad-45b9-f9a7-102dbeb1148d"
      },
      "source": [
        "# Explore correlations visually\n",
        "f, ax = plt.subplots(figsize=(12,6))\n",
        "sns.heatmap(X.corr(), annot=True, fmt='.2f')"
      ],
      "execution_count": null,
      "outputs": [
        {
          "output_type": "execute_result",
          "data": {
            "text/plain": [
              "<matplotlib.axes._subplots.AxesSubplot at 0x7fcfc44dbb90>"
            ]
          },
          "metadata": {
            "tags": []
          },
          "execution_count": 36
        },
        {
          "output_type": "display_data",
          "data": {
            "image/png": "[encoded data removed]",
            "text/plain": [
              "<Figure size 864x432 with 2 Axes>"
            ]
          },
          "metadata": {
            "tags": [],
            "needs_background": "light"
          }
        }
      ]
    },
    {
      "cell_type": "markdown",
      "metadata": {
        "id": "tH-0Fl88NHdi"
      },
      "source": [
        "Cambiar el tipo de datos"
      ]
    },
    {
      "cell_type": "code",
      "metadata": {
        "id": "KfS5IPutIms1"
      },
      "source": [
        "X['Hour'] = X['step'] % 24\n",
        "\n",
        "X['Hour'] = X['Hour'].astype('object')"
      ],
      "execution_count": null,
      "outputs": []
    },
    {
      "cell_type": "markdown",
      "metadata": {
        "id": "up02Y5F0NKrQ"
      },
      "source": [
        "Número de transacciones por hora\n",
        "\n"
      ]
    },
    {
      "cell_type": "code",
      "metadata": {
        "colab": {
          "base_uri": "https://localhost:8080/",
          "height": 420
        },
        "id": "zINFI-dBKzWT",
        "outputId": "85454d7e-7313-44b7-bcb7-6e064668b976"
      },
      "source": [
        "plt.figure(figsize=(18,6))\n",
        "ax = (X['Hour'].value_counts(sort=False, normalize=True) * 100).round(2).plot(kind='bar')\n",
        "for i in ax.patches:\n",
        "    ax.text(i.get_x(), i.get_height(), str(round(i.get_height(), 2)) + \"%\", fontsize=12, color='black')\n",
        "plt.xlabel('Hora de la transaccion', fontsize=15, fontweight='bold')\n",
        "plt.xticks(fontsize=15, fontweight='bold', rotation=0)\n",
        "plt.ylabel('% de transacciones', fontsize=15, fontweight='bold')\n",
        "plt.yticks(fontsize=15, fontweight='bold')\n",
        "plt.title('No. de transacciones por hora', fontsize=22, fontweight='bold')\n",
        "plt.show()"
      ],
      "execution_count": null,
      "outputs": [
        {
          "output_type": "display_data",
          "data": {
            "image/png": "[encoded data removed]",
            "text/plain": [
              "<Figure size 1296x432 with 1 Axes>"
            ]
          },
          "metadata": {
            "tags": [],
            "needs_background": "light"
          }
        }
      ]
    },
    {
      "cell_type": "code",
      "metadata": {
        "colab": {
          "base_uri": "https://localhost:8080/",
          "height": 198
        },
        "id": "PZnw6C-rVhIk",
        "outputId": "8b39e7dc-dd0b-4a98-ed61-128a268f93fd"
      },
      "source": [
        "X_fraude = X.loc[X.isFraud == 1]\n",
        "X_fraude.head()"
      ],
      "execution_count": null,
      "outputs": [
        {
          "output_type": "execute_result",
          "data": {
            "text/html": [
              "<div>\n",
              "<style scoped>\n",
              "    .dataframe tbody tr th:only-of-type {\n",
              "        vertical-align: middle;\n",
              "    }\n",
              "\n",
              "    .dataframe tbody tr th {\n",
              "        vertical-align: top;\n",
              "    }\n",
              "\n",
              "    .dataframe thead th {\n",
              "        text-align: right;\n",
              "    }\n",
              "</style>\n",
              "<table border=\"1\" class=\"dataframe\">\n",
              "  <thead>\n",
              "    <tr style=\"text-align: right;\">\n",
              "      <th></th>\n",
              "      <th>step</th>\n",
              "      <th>type</th>\n",
              "      <th>amount</th>\n",
              "      <th>oldbalanceOrg</th>\n",
              "      <th>newbalanceOrig</th>\n",
              "      <th>oldbalanceDest</th>\n",
              "      <th>newbalanceDest</th>\n",
              "      <th>isFraud</th>\n",
              "      <th>Hour</th>\n",
              "    </tr>\n",
              "  </thead>\n",
              "  <tbody>\n",
              "    <tr>\n",
              "      <th>2</th>\n",
              "      <td>1</td>\n",
              "      <td>0</td>\n",
              "      <td>181.0</td>\n",
              "      <td>181.0</td>\n",
              "      <td>0.0</td>\n",
              "      <td>0.0</td>\n",
              "      <td>0.0</td>\n",
              "      <td>1</td>\n",
              "      <td>1</td>\n",
              "    </tr>\n",
              "    <tr>\n",
              "      <th>3</th>\n",
              "      <td>1</td>\n",
              "      <td>1</td>\n",
              "      <td>181.0</td>\n",
              "      <td>181.0</td>\n",
              "      <td>0.0</td>\n",
              "      <td>21182.0</td>\n",
              "      <td>0.0</td>\n",
              "      <td>1</td>\n",
              "      <td>1</td>\n",
              "    </tr>\n",
              "    <tr>\n",
              "      <th>251</th>\n",
              "      <td>1</td>\n",
              "      <td>0</td>\n",
              "      <td>2806.0</td>\n",
              "      <td>2806.0</td>\n",
              "      <td>0.0</td>\n",
              "      <td>0.0</td>\n",
              "      <td>0.0</td>\n",
              "      <td>1</td>\n",
              "      <td>1</td>\n",
              "    </tr>\n",
              "    <tr>\n",
              "      <th>252</th>\n",
              "      <td>1</td>\n",
              "      <td>1</td>\n",
              "      <td>2806.0</td>\n",
              "      <td>2806.0</td>\n",
              "      <td>0.0</td>\n",
              "      <td>26202.0</td>\n",
              "      <td>0.0</td>\n",
              "      <td>1</td>\n",
              "      <td>1</td>\n",
              "    </tr>\n",
              "    <tr>\n",
              "      <th>680</th>\n",
              "      <td>1</td>\n",
              "      <td>0</td>\n",
              "      <td>20128.0</td>\n",
              "      <td>20128.0</td>\n",
              "      <td>0.0</td>\n",
              "      <td>0.0</td>\n",
              "      <td>0.0</td>\n",
              "      <td>1</td>\n",
              "      <td>1</td>\n",
              "    </tr>\n",
              "  </tbody>\n",
              "</table>\n",
              "</div>"
            ],
            "text/plain": [
              "     step  type   amount  ...  newbalanceDest  isFraud  Hour\n",
              "2       1     0    181.0  ...             0.0        1     1\n",
              "3       1     1    181.0  ...             0.0        1     1\n",
              "251     1     0   2806.0  ...             0.0        1     1\n",
              "252     1     1   2806.0  ...             0.0        1     1\n",
              "680     1     0  20128.0  ...             0.0        1     1\n",
              "\n",
              "[5 rows x 9 columns]"
            ]
          },
          "metadata": {
            "tags": []
          },
          "execution_count": 36
        }
      ]
    },
    {
      "cell_type": "markdown",
      "metadata": {
        "id": "0ySQHRR0NTqx"
      },
      "source": [
        "Número de transacciones fraudulentas por hora"
      ]
    },
    {
      "cell_type": "code",
      "metadata": {
        "colab": {
          "base_uri": "https://localhost:8080/",
          "height": 420
        },
        "id": "Rr3wqO-jVg8U",
        "outputId": "b0354f59-fbee-499b-850e-5b185ea582a6"
      },
      "source": [
        "plt.figure(figsize=(18,6))\n",
        "ax = (X_fraude['Hour'].value_counts(sort=False, normalize=True) * 100).round(2).plot(kind='bar')\n",
        "for i in ax.patches:\n",
        "    ax.text(i.get_x(), i.get_height(), str(round(i.get_height(), 2)) + \"%\", fontsize=12, color='black')\n",
        "plt.xlabel('Hora de la transaccion', fontsize=15, fontweight='bold')\n",
        "plt.xticks(fontsize=15, fontweight='bold', rotation=0)\n",
        "plt.ylabel('% de transacciones', fontsize=15, fontweight='bold')\n",
        "plt.yticks(fontsize=15, fontweight='bold')\n",
        "plt.title('No. de transacciones fraudulentas por hora', fontsize=22, fontweight='bold')\n",
        "plt.show()"
      ],
      "execution_count": null,
      "outputs": [
        {
          "output_type": "display_data",
          "data": {
            "image/png": "[encoded data removed]",
            "text/plain": [
              "<Figure size 1296x432 with 1 Axes>"
            ]
          },
          "metadata": {
            "tags": [],
            "needs_background": "light"
          }
        }
      ]
    },
    {
      "cell_type": "markdown",
      "metadata": {
        "id": "QY2TkYw1_-ya"
      },
      "source": [
        "**Dispersión sobre la variable: oldbalanceOrg por tipo de transacción, TRANSFER = 0, CASH_OUT = 1**"
      ]
    },
    {
      "cell_type": "code",
      "metadata": {
        "colab": {
          "base_uri": "https://localhost:8080/",
          "height": 460
        },
        "id": "4mUMEFTt__IO",
        "outputId": "d71dc1be-256a-4ee7-ea29-35955fb75708"
      },
      "source": [
        "fig, ax= plt.subplots(figsize=(14, 6))  \n",
        "sns.stripplot(X['isFraud'], X['oldbalanceOrg'],X['type'], jitter=True, ax=ax)  \n",
        "ax.set_title('Strip plot')  \n",
        "plt.show() "
      ],
      "execution_count": null,
      "outputs": [
        {
          "output_type": "stream",
          "text": [
            "/usr/local/lib/python3.7/dist-packages/seaborn/_decorators.py:43: FutureWarning: Pass the following variables as keyword args: x, y, hue. From version 0.12, the only valid positional argument will be `data`, and passing other arguments without an explicit keyword will result in an error or misinterpretation.\n",
            "  FutureWarning\n"
          ],
          "name": "stderr"
        },
        {
          "output_type": "display_data",
          "data": {
            "image/png": "[encoded data removed]",
            "text/plain": [
              "<Figure size 1008x432 with 1 Axes>"
            ]
          },
          "metadata": {
            "tags": [],
            "needs_background": "light"
          }
        }
      ]
    },
    {
      "cell_type": "markdown",
      "metadata": {
        "id": "FdjnKR7WWlng"
      },
      "source": [
        "**Dispersión sobre la variable: amount por tipo de transacción, TRANSFER = 0, CASH_OUT = 1**"
      ]
    },
    {
      "cell_type": "code",
      "metadata": {
        "colab": {
          "base_uri": "https://localhost:8080/",
          "height": 460
        },
        "id": "TCgGW0R1c5KY",
        "outputId": "fb61e4f9-f5a4-43a7-f622-9aa740fd27e2"
      },
      "source": [
        "fig, ax= plt.subplots(figsize=(14, 6))  \n",
        "sns.stripplot(X['isFraud'], X['amount'],X['type'], jitter=True, ax=ax)  \n",
        "ax.set_title('Strip plot')  \n",
        "plt.show() "
      ],
      "execution_count": null,
      "outputs": [
        {
          "output_type": "stream",
          "text": [
            "/usr/local/lib/python3.7/dist-packages/seaborn/_decorators.py:43: FutureWarning: Pass the following variables as keyword args: x, y, hue. From version 0.12, the only valid positional argument will be `data`, and passing other arguments without an explicit keyword will result in an error or misinterpretation.\n",
            "  FutureWarning\n"
          ],
          "name": "stderr"
        },
        {
          "output_type": "display_data",
          "data": {
            "image/png": "[encoded data removed]",
            "text/plain": [
              "<Figure size 1008x432 with 1 Axes>"
            ]
          },
          "metadata": {
            "tags": [],
            "needs_background": "light"
          }
        }
      ]
    },
    {
      "cell_type": "markdown",
      "metadata": {
        "id": "nGdLDfqZfisk"
      },
      "source": [
        "**Dispersión sobre la variable: oldbalanceDest por tipo de transacción, TRANSFER = 0, CASH_OUT = 1**"
      ]
    },
    {
      "cell_type": "code",
      "metadata": {
        "colab": {
          "base_uri": "https://localhost:8080/",
          "height": 460
        },
        "id": "GNBqjLBYfhJi",
        "outputId": "5906d549-a5da-44a1-f69f-95ae4a7c136b"
      },
      "source": [
        "fig, ax= plt.subplots(figsize=(14, 6))  \n",
        "sns.stripplot(X['isFraud'], X['oldbalanceDest'],X['type'], jitter=True, ax=ax)  \n",
        "ax.set_title('Strip plot')  \n",
        "plt.show() "
      ],
      "execution_count": null,
      "outputs": [
        {
          "output_type": "stream",
          "text": [
            "/usr/local/lib/python3.7/dist-packages/seaborn/_decorators.py:43: FutureWarning: Pass the following variables as keyword args: x, y, hue. From version 0.12, the only valid positional argument will be `data`, and passing other arguments without an explicit keyword will result in an error or misinterpretation.\n",
            "  FutureWarning\n"
          ],
          "name": "stderr"
        },
        {
          "output_type": "display_data",
          "data": {
            "image/png": "[encoded data removed]",
            "text/plain": [
              "<Figure size 1008x432 with 1 Axes>"
            ]
          },
          "metadata": {
            "tags": [],
            "needs_background": "light"
          }
        }
      ]
    },
    {
      "cell_type": "markdown",
      "metadata": {
        "id": "Zw8-mvadgyWC"
      },
      "source": [
        "**Dispersión sobre la variable: newbalanceDest por tipo de transacción, TRANSFER = 0, CASH_OUT = 1**"
      ]
    },
    {
      "cell_type": "code",
      "metadata": {
        "colab": {
          "base_uri": "https://localhost:8080/",
          "height": 460
        },
        "id": "i8jrfFaugwzy",
        "outputId": "1e36f010-0805-4e2b-9b63-bcaf08d7d7cf"
      },
      "source": [
        "fig, ax= plt.subplots(figsize=(14, 6))  \n",
        "sns.stripplot(X['isFraud'], X['newbalanceDest'],X['type'], jitter=True, ax=ax)  \n",
        "ax.set_title('Strip plot')  \n",
        "plt.show() "
      ],
      "execution_count": null,
      "outputs": [
        {
          "output_type": "stream",
          "text": [
            "/usr/local/lib/python3.7/dist-packages/seaborn/_decorators.py:43: FutureWarning: Pass the following variables as keyword args: x, y, hue. From version 0.12, the only valid positional argument will be `data`, and passing other arguments without an explicit keyword will result in an error or misinterpretation.\n",
            "  FutureWarning\n"
          ],
          "name": "stderr"
        },
        {
          "output_type": "display_data",
          "data": {
            "image/png": "[encoded data removed]",
            "text/plain": [
              "<Figure size 1008x432 with 1 Axes>"
            ]
          },
          "metadata": {
            "tags": [],
            "needs_background": "light"
          }
        }
      ]
    },
    {
      "cell_type": "code",
      "metadata": {
        "colab": {
          "base_uri": "https://localhost:8080/",
          "height": 138
        },
        "id": "hrVCbS2EYQ46",
        "outputId": "636db765-1f73-4f0f-c114-50428ecbb0d9"
      },
      "source": [
        "X = X.drop(['step'], axis= 1) \n",
        "X.head(3)"
      ],
      "execution_count": null,
      "outputs": [
        {
          "output_type": "execute_result",
          "data": {
            "text/html": [
              "<div>\n",
              "<style scoped>\n",
              "    .dataframe tbody tr th:only-of-type {\n",
              "        vertical-align: middle;\n",
              "    }\n",
              "\n",
              "    .dataframe tbody tr th {\n",
              "        vertical-align: top;\n",
              "    }\n",
              "\n",
              "    .dataframe thead th {\n",
              "        text-align: right;\n",
              "    }\n",
              "</style>\n",
              "<table border=\"1\" class=\"dataframe\">\n",
              "  <thead>\n",
              "    <tr style=\"text-align: right;\">\n",
              "      <th></th>\n",
              "      <th>type</th>\n",
              "      <th>amount</th>\n",
              "      <th>oldbalanceOrg</th>\n",
              "      <th>newbalanceOrig</th>\n",
              "      <th>oldbalanceDest</th>\n",
              "      <th>newbalanceDest</th>\n",
              "      <th>isFraud</th>\n",
              "      <th>Hour</th>\n",
              "    </tr>\n",
              "  </thead>\n",
              "  <tbody>\n",
              "    <tr>\n",
              "      <th>2</th>\n",
              "      <td>0</td>\n",
              "      <td>181.00</td>\n",
              "      <td>181.0</td>\n",
              "      <td>0.0</td>\n",
              "      <td>0.0</td>\n",
              "      <td>0.00</td>\n",
              "      <td>1</td>\n",
              "      <td>1</td>\n",
              "    </tr>\n",
              "    <tr>\n",
              "      <th>3</th>\n",
              "      <td>1</td>\n",
              "      <td>181.00</td>\n",
              "      <td>181.0</td>\n",
              "      <td>0.0</td>\n",
              "      <td>21182.0</td>\n",
              "      <td>0.00</td>\n",
              "      <td>1</td>\n",
              "      <td>1</td>\n",
              "    </tr>\n",
              "    <tr>\n",
              "      <th>15</th>\n",
              "      <td>1</td>\n",
              "      <td>229133.94</td>\n",
              "      <td>15325.0</td>\n",
              "      <td>0.0</td>\n",
              "      <td>5083.0</td>\n",
              "      <td>51513.44</td>\n",
              "      <td>0</td>\n",
              "      <td>1</td>\n",
              "    </tr>\n",
              "  </tbody>\n",
              "</table>\n",
              "</div>"
            ],
            "text/plain": [
              "    type     amount  oldbalanceOrg  ...  newbalanceDest  isFraud  Hour\n",
              "2      0     181.00          181.0  ...            0.00        1     1\n",
              "3      1     181.00          181.0  ...            0.00        1     1\n",
              "15     1  229133.94        15325.0  ...        51513.44        0     1\n",
              "\n",
              "[3 rows x 8 columns]"
            ]
          },
          "metadata": {
            "tags": []
          },
          "execution_count": 38
        }
      ]
    },
    {
      "cell_type": "markdown",
      "metadata": {
        "id": "Q5FdUJmYjXsT"
      },
      "source": [
        "# **Aplicación de modelos**"
      ]
    },
    {
      "cell_type": "code",
      "metadata": {
        "id": "t2mH-nOiz0gi"
      },
      "source": [
        "from sklearn.ensemble import RandomForestClassifier\n",
        "from sklearn.model_selection import GridSearchCV\n",
        "from sklearn.metrics import accuracy_score, f1_score, balanced_accuracy_score, plot_confusion_matrix, plot_roc_curve\n",
        "from sklearn.model_selection import cross_val_score\n",
        "from sklearn.metrics import confusion_matrix\n",
        "from sklearn.model_selection import StratifiedShuffleSplit, train_test_split, GridSearchCV, StratifiedKFold \n",
        "from sklearn.pipeline import Pipeline\n",
        "from sklearn import svm\n",
        "from sklearn.svm import OneClassSVM\n",
        "import matplotlib.pyplot as plt\n",
        "from sklearn.covariance import EllipticEnvelope\n",
        "from sklearn.metrics import roc_auc_score\n",
        "from keras.models import Sequential\n",
        "from keras.layers import Dense\n",
        "from sklearn.linear_model import LogisticRegression\n",
        "from sklearn.model_selection import GridSearchCV"
      ],
      "execution_count": null,
      "outputs": []
    },
    {
      "cell_type": "code",
      "metadata": {
        "id": "I0BKqmUWEJKO"
      },
      "source": [
        "from sklearn.model_selection import train_test_split\n",
        "\n",
        "X_train, X_test, y_train, y_test = train_test_split(X.drop(['isFraud'], axis = 1), X['isFraud'],\n",
        "                                                    random_state=0, test_size=0.3, stratify=X['isFraud'])"
      ],
      "execution_count": null,
      "outputs": []
    },
    {
      "cell_type": "code",
      "metadata": {
        "id": "nQhHMNkshf6g"
      },
      "source": [
        "skf = StratifiedKFold(n_splits=3)"
      ],
      "execution_count": null,
      "outputs": []
    },
    {
      "cell_type": "code",
      "metadata": {
        "id": "b1GIoUG0Gyca"
      },
      "source": [
        "from sklearn.preprocessing import StandardScaler\n",
        "scaler = StandardScaler()\n",
        "\n",
        "X_train_n = scaler.fit_transform(X_train)\n",
        "X_test_n = scaler.fit_transform(X_test)"
      ],
      "execution_count": null,
      "outputs": []
    },
    {
      "cell_type": "markdown",
      "metadata": {
        "id": "KBfpMHYeXQQp"
      },
      "source": [
        "**Modelo 1: LogisticRegression**"
      ]
    },
    {
      "cell_type": "code",
      "metadata": {
        "id": "NHjEmgmzXxrV"
      },
      "source": [
        "clf = LogisticRegression(class_weight='balanced')\n",
        "grid_values = {'penalty': ['l2'],'C':[0.001,0.01,0.8]}\n",
        "grid_clf = GridSearchCV(clf, param_grid = grid_values, cv=skf, scoring = 'recall')"
      ],
      "execution_count": null,
      "outputs": []
    },
    {
      "cell_type": "code",
      "metadata": {
        "colab": {
          "base_uri": "https://localhost:8080/"
        },
        "id": "9ywBEoeSJDEg",
        "outputId": "a11cd520-5853-4406-e53c-4da3dac7bca8"
      },
      "source": [
        "grid_clf.fit(X_train_n, y_train)"
      ],
      "execution_count": null,
      "outputs": [
        {
          "output_type": "execute_result",
          "data": {
            "text/plain": [
              "GridSearchCV(cv=StratifiedKFold(n_splits=3, random_state=None, shuffle=False),\n",
              "             error_score=nan,\n",
              "             estimator=LogisticRegression(C=1.0, class_weight='balanced',\n",
              "                                          dual=False, fit_intercept=True,\n",
              "                                          intercept_scaling=1, l1_ratio=None,\n",
              "                                          max_iter=100, multi_class='auto',\n",
              "                                          n_jobs=None, penalty='l2',\n",
              "                                          random_state=None, solver='lbfgs',\n",
              "                                          tol=0.0001, verbose=0,\n",
              "                                          warm_start=False),\n",
              "             iid='deprecated', n_jobs=None,\n",
              "             param_grid={'C': [0.001, 0.01, 0.8], 'penalty': ['l2']},\n",
              "             pre_dispatch='2*n_jobs', refit=True, return_train_score=False,\n",
              "             scoring='recall', verbose=0)"
            ]
          },
          "metadata": {
            "tags": []
          },
          "execution_count": 55
        }
      ]
    },
    {
      "cell_type": "code",
      "metadata": {
        "colab": {
          "base_uri": "https://localhost:8080/"
        },
        "id": "Sxkm3EjyJ04l",
        "outputId": "53d704a1-bbf2-4613-b0fb-001c89732b91"
      },
      "source": [
        "model = grid_clf.best_estimator_\n",
        "model"
      ],
      "execution_count": null,
      "outputs": [
        {
          "output_type": "execute_result",
          "data": {
            "text/plain": [
              "LogisticRegression(C=0.8, class_weight='balanced', dual=False,\n",
              "                   fit_intercept=True, intercept_scaling=1, l1_ratio=None,\n",
              "                   max_iter=100, multi_class='auto', n_jobs=None, penalty='l2',\n",
              "                   random_state=None, solver='lbfgs', tol=0.0001, verbose=0,\n",
              "                   warm_start=False)"
            ]
          },
          "metadata": {
            "tags": []
          },
          "execution_count": 56
        }
      ]
    },
    {
      "cell_type": "code",
      "metadata": {
        "colab": {
          "base_uri": "https://localhost:8080/"
        },
        "id": "Jb3REmPpLEs5",
        "outputId": "2a7f4959-869f-4f3b-e481-3a9e54da9597"
      },
      "source": [
        "scores = cross_val_score(model, X_train_n, y_train, cv=skf, scoring=\"accuracy\")\n",
        "scores"
      ],
      "execution_count": null,
      "outputs": [
        {
          "output_type": "execute_result",
          "data": {
            "text/plain": [
              "array([0.9413996 , 0.9399996 , 0.94178315])"
            ]
          },
          "metadata": {
            "tags": []
          },
          "execution_count": 57
        }
      ]
    },
    {
      "cell_type": "code",
      "metadata": {
        "colab": {
          "base_uri": "https://localhost:8080/"
        },
        "id": "zqE53fAVLEl0",
        "outputId": "54ce8ab2-3122-4301-8c00-46ee81163c32"
      },
      "source": [
        "scores1 = cross_val_score(model, X_train_n, y_train, cv=skf, scoring=\"recall\")\n",
        "scores1"
      ],
      "execution_count": null,
      "outputs": [
        {
          "output_type": "execute_result",
          "data": {
            "text/plain": [
              "array([0.90553236, 0.90871153, 0.90292276])"
            ]
          },
          "metadata": {
            "tags": []
          },
          "execution_count": 58
        }
      ]
    },
    {
      "cell_type": "code",
      "metadata": {
        "colab": {
          "base_uri": "https://localhost:8080/"
        },
        "id": "fh-xPnsRLEZm",
        "outputId": "7324ddb2-57d5-468e-f77a-3e113308fe3f"
      },
      "source": [
        " pred = model.predict(X_test_n)\n",
        " print(confusion_matrix(y_test, pred))"
      ],
      "execution_count": null,
      "outputs": [
        {
          "output_type": "stream",
          "text": [
            "[[782064  46595]\n",
            " [   263   2201]]\n"
          ],
          "name": "stdout"
        }
      ]
    },
    {
      "cell_type": "code",
      "metadata": {
        "colab": {
          "base_uri": "https://localhost:8080/",
          "height": 331
        },
        "id": "vd4not233RgP",
        "outputId": "a9bcf687-4aea-4e40-a770-bb532da6fce4"
      },
      "source": [
        "print('Accuracy test búsqueda = '+str(accuracy_score(y_test,model.predict(X_test_n))))\n",
        "\n",
        "disp = plot_confusion_matrix(model,X_test_n, y_test,normalize='true')\n",
        "disp.ax_.set_title('Búsqueda')"
      ],
      "execution_count": null,
      "outputs": [
        {
          "output_type": "stream",
          "text": [
            "Accuracy test búsqueda = 0.9436208599689817\n"
          ],
          "name": "stdout"
        },
        {
          "output_type": "execute_result",
          "data": {
            "text/plain": [
              "Text(0.5, 1.0, 'Búsqueda')"
            ]
          },
          "metadata": {
            "tags": []
          },
          "execution_count": 60
        },
        {
          "output_type": "display_data",
          "data": {
            "image/png": "[encoded data removed]",
            "text/plain": [
              "<Figure size 432x288 with 2 Axes>"
            ]
          },
          "metadata": {
            "tags": [],
            "needs_background": "light"
          }
        }
      ]
    },
    {
      "cell_type": "code",
      "metadata": {
        "colab": {
          "base_uri": "https://localhost:8080/",
          "height": 331
        },
        "id": "RBw1B-38LY0e",
        "outputId": "b613f3ee-3ce7-443f-d006-b1f33c6c4d46"
      },
      "source": [
        "print('Balanced Accuracy test búsqueda = '+str(balanced_accuracy_score(y_test,model.predict(X_test_n))))\n",
        "\n",
        "disp = plot_confusion_matrix(model,X_test_n, y_test,normalize='true')\n",
        "disp.ax_.set_title('Búsqueda')"
      ],
      "execution_count": null,
      "outputs": [
        {
          "output_type": "stream",
          "text": [
            "Balanced Accuracy test búsqueda = 0.9185167925257524\n"
          ],
          "name": "stdout"
        },
        {
          "output_type": "execute_result",
          "data": {
            "text/plain": [
              "Text(0.5, 1.0, 'Búsqueda')"
            ]
          },
          "metadata": {
            "tags": []
          },
          "execution_count": 61
        },
        {
          "output_type": "display_data",
          "data": {
            "image/png": "[encoded data removed]",
            "text/plain": [
              "<Figure size 432x288 with 2 Axes>"
            ]
          },
          "metadata": {
            "tags": [],
            "needs_background": "light"
          }
        }
      ]
    },
    {
      "cell_type": "code",
      "metadata": {
        "colab": {
          "base_uri": "https://localhost:8080/"
        },
        "id": "LvtlQc-rLg_U",
        "outputId": "2df9f58d-20f9-4f80-a6ec-b72f1a301c44"
      },
      "source": [
        "print(classification_report(y_test, pred))"
      ],
      "execution_count": null,
      "outputs": [
        {
          "output_type": "stream",
          "text": [
            "              precision    recall  f1-score   support\n",
            "\n",
            "           0       1.00      0.94      0.97    828659\n",
            "           1       0.05      0.89      0.09      2464\n",
            "\n",
            "    accuracy                           0.94    831123\n",
            "   macro avg       0.52      0.92      0.53    831123\n",
            "weighted avg       1.00      0.94      0.97    831123\n",
            "\n"
          ],
          "name": "stdout"
        }
      ]
    },
    {
      "cell_type": "code",
      "metadata": {
        "colab": {
          "base_uri": "https://localhost:8080/",
          "height": 279
        },
        "id": "z8Pmi_KmLZk2",
        "outputId": "a317e055-dccd-4220-a82e-b8ef1402c5a1"
      },
      "source": [
        "ax = plt.gca()\n",
        "rfc_disp = plot_roc_curve(model, X_test_n, y_test, ax=ax, alpha=0.8)\n",
        "plt.show()"
      ],
      "execution_count": null,
      "outputs": [
        {
          "output_type": "display_data",
          "data": {
            "image/png": "[encoded data removed]",
            "text/plain": [
              "<Figure size 432x288 with 1 Axes>"
            ]
          },
          "metadata": {
            "tags": [],
            "needs_background": "light"
          }
        }
      ]
    },
    {
      "cell_type": "code",
      "metadata": {
        "colab": {
          "base_uri": "https://localhost:8080/",
          "height": 279
        },
        "id": "0XcyvvUt3wuH",
        "outputId": "2045359f-a0c0-4b6f-93bf-1788c1284969"
      },
      "source": [
        "ax = plt.gca()\n",
        "rfc_disp = plot_roc_curve(model, X_train_n, y_train, ax=ax, alpha=0.8)\n",
        "plt.show()"
      ],
      "execution_count": null,
      "outputs": [
        {
          "output_type": "display_data",
          "data": {
            "image/png": "[encoded data removed]",
            "text/plain": [
              "<Figure size 432x288 with 1 Axes>"
            ]
          },
          "metadata": {
            "tags": [],
            "needs_background": "light"
          }
        }
      ]
    },
    {
      "cell_type": "code",
      "metadata": {
        "colab": {
          "base_uri": "https://localhost:8080/"
        },
        "id": "Ah6NcqQsqkqj",
        "outputId": "18ef0597-a13f-4cc8-842a-281e84a75a0a"
      },
      "source": [
        "f1_score(y_test, pred, average=None)"
      ],
      "execution_count": null,
      "outputs": [
        {
          "output_type": "execute_result",
          "data": {
            "text/plain": [
              "array([0.97091347, 0.08587593])"
            ]
          },
          "metadata": {
            "tags": []
          },
          "execution_count": 102
        }
      ]
    },
    {
      "cell_type": "markdown",
      "metadata": {
        "id": "zef9qeasXWZz"
      },
      "source": [
        "**Modelo 2: RandomForestClassifier**"
      ]
    },
    {
      "cell_type": "code",
      "metadata": {
        "id": "2g06Gh_KbD1A"
      },
      "source": [
        "st = StratifiedShuffleSplit(n_splits=5, test_size=0.2, random_state=0)"
      ],
      "execution_count": null,
      "outputs": []
    },
    {
      "cell_type": "code",
      "metadata": {
        "colab": {
          "base_uri": "https://localhost:8080/"
        },
        "id": "MtTzBCrrVF2c",
        "outputId": "e3cc0f6f-1990-4569-b448-9bedb5007619"
      },
      "source": [
        "B=[5, 10, 15]\n",
        "grid_values1 = {'n_estimators': B, 'max_depth':[3, 4]}\n",
        "\n",
        "clf1 = RandomForestClassifier(random_state=0, class_weight='balanced_subsample', n_jobs=-1)\n",
        "grid_clf1 = GridSearchCV(estimator=clf1, param_grid = grid_values1, cv=st, scoring='balanced_accuracy',return_train_score=True)\n",
        "grid_clf1.fit(X_train_n, y_train)"
      ],
      "execution_count": null,
      "outputs": [
        {
          "output_type": "execute_result",
          "data": {
            "text/plain": [
              "GridSearchCV(cv=StratifiedShuffleSplit(n_splits=5, random_state=0, test_size=0.2,\n",
              "            train_size=None),\n",
              "             error_score=nan,\n",
              "             estimator=RandomForestClassifier(bootstrap=True, ccp_alpha=0.0,\n",
              "                                              class_weight='balanced_subsample',\n",
              "                                              criterion='gini', max_depth=None,\n",
              "                                              max_features='auto',\n",
              "                                              max_leaf_nodes=None,\n",
              "                                              max_samples=None,\n",
              "                                              min_impurity_decrease=0.0,\n",
              "                                              min_impurity_split=None,\n",
              "                                              min_samples_leaf=1,\n",
              "                                              min_samples_split=2,\n",
              "                                              min_weight_fraction_leaf=0.0,\n",
              "                                              n_estimators=100, n_jobs=-1,\n",
              "                                              oob_score=False, random_state=0,\n",
              "                                              verbose=0, warm_start=False),\n",
              "             iid='deprecated', n_jobs=None,\n",
              "             param_grid={'max_depth': [3, 4], 'n_estimators': [5, 10, 15]},\n",
              "             pre_dispatch='2*n_jobs', refit=True, return_train_score=True,\n",
              "             scoring='balanced_accuracy', verbose=0)"
            ]
          },
          "metadata": {
            "tags": []
          },
          "execution_count": 120
        }
      ]
    },
    {
      "cell_type": "code",
      "metadata": {
        "colab": {
          "base_uri": "https://localhost:8080/"
        },
        "id": "2PJBiDJHPOZp",
        "outputId": "317e2735-cbb4-4d30-9dfe-3c78cfe3e925"
      },
      "source": [
        "model1 = grid_clf1.best_estimator_\n",
        "model1"
      ],
      "execution_count": null,
      "outputs": [
        {
          "output_type": "execute_result",
          "data": {
            "text/plain": [
              "RandomForestClassifier(bootstrap=True, ccp_alpha=0.0,\n",
              "                       class_weight='balanced_subsample', criterion='gini',\n",
              "                       max_depth=4, max_features='auto', max_leaf_nodes=None,\n",
              "                       max_samples=None, min_impurity_decrease=0.0,\n",
              "                       min_impurity_split=None, min_samples_leaf=1,\n",
              "                       min_samples_split=2, min_weight_fraction_leaf=0.0,\n",
              "                       n_estimators=15, n_jobs=-1, oob_score=False,\n",
              "                       random_state=0, verbose=0, warm_start=False)"
            ]
          },
          "metadata": {
            "tags": []
          },
          "execution_count": 121
        }
      ]
    },
    {
      "cell_type": "code",
      "metadata": {
        "colab": {
          "base_uri": "https://localhost:8080/"
        },
        "id": "K4kMv726cj4E",
        "outputId": "4eb1e27a-c10b-4411-fd3e-21e5f1af0174"
      },
      "source": [
        " pred1 = model1.predict(X_test_n)\n",
        " print(confusion_matrix(y_test, pred1))"
      ],
      "execution_count": null,
      "outputs": [
        {
          "output_type": "stream",
          "text": [
            "[[822888   5771]\n",
            " [  1315   1149]]\n"
          ],
          "name": "stdout"
        }
      ]
    },
    {
      "cell_type": "code",
      "metadata": {
        "colab": {
          "base_uri": "https://localhost:8080/"
        },
        "id": "2_mTZ4Bss8ra",
        "outputId": "95d9b59a-f4ee-4c37-a8b1-72f8c28dd36a"
      },
      "source": [
        "scores2 = cross_val_score(model1, X_train_n, y_train, cv=skf, scoring=\"accuracy\")\n",
        "scores2"
      ],
      "execution_count": null,
      "outputs": [
        {
          "output_type": "execute_result",
          "data": {
            "text/plain": [
              "array([0.96898345, 0.9803536 , 0.96899732])"
            ]
          },
          "metadata": {
            "tags": []
          },
          "execution_count": 123
        }
      ]
    },
    {
      "cell_type": "code",
      "metadata": {
        "colab": {
          "base_uri": "https://localhost:8080/"
        },
        "id": "ZnhCsN-WtTvS",
        "outputId": "f1635551-c4dc-4ebc-e37f-6cbaede2e59f"
      },
      "source": [
        "scores3 = cross_val_score(model1, X_train_n, y_train, cv=skf, scoring=\"recall\")\n",
        "scores3"
      ],
      "execution_count": null,
      "outputs": [
        {
          "output_type": "execute_result",
          "data": {
            "text/plain": [
              "array([0.92118998, 0.92227439, 0.92954071])"
            ]
          },
          "metadata": {
            "tags": []
          },
          "execution_count": 124
        }
      ]
    },
    {
      "cell_type": "code",
      "metadata": {
        "colab": {
          "base_uri": "https://localhost:8080/",
          "height": 331
        },
        "id": "r-yc25ln7BhY",
        "outputId": "c54c8e1a-eb46-44bd-ae7a-cdc6b2243965"
      },
      "source": [
        "print('Accuracy test búsqueda = '+str(accuracy_score(y_test, model1.predict(X_test_n))))\n",
        "\n",
        "disp = plot_confusion_matrix(model1, X_test_n, y_test,normalize='true')\n",
        "disp.ax_.set_title('Búsqueda')"
      ],
      "execution_count": null,
      "outputs": [
        {
          "output_type": "stream",
          "text": [
            "Accuracy test búsqueda = 0.9914741861312947\n"
          ],
          "name": "stdout"
        },
        {
          "output_type": "execute_result",
          "data": {
            "text/plain": [
              "Text(0.5, 1.0, 'Búsqueda')"
            ]
          },
          "metadata": {
            "tags": []
          },
          "execution_count": 126
        },
        {
          "output_type": "display_data",
          "data": {
            "image/png": "[encoded data removed]",
            "text/plain": [
              "<Figure size 432x288 with 2 Axes>"
            ]
          },
          "metadata": {
            "tags": [],
            "needs_background": "light"
          }
        }
      ]
    },
    {
      "cell_type": "code",
      "metadata": {
        "colab": {
          "base_uri": "https://localhost:8080/",
          "height": 331
        },
        "id": "-8TiA3JUWGxq",
        "outputId": "6b7201fc-8bc5-40a8-ffec-d4a019e378ee"
      },
      "source": [
        "print('Balanced Accuracy test búsqueda = '+str(balanced_accuracy_score(y_test, model1.predict(X_test_n))))\n",
        "\n",
        "disp = plot_confusion_matrix(model1, X_test_n, y_test,normalize='true')\n",
        "disp.ax_.set_title('Búsqueda')"
      ],
      "execution_count": null,
      "outputs": [
        {
          "output_type": "stream",
          "text": [
            "Balanced Accuracy test búsqueda = 0.7296753355577952\n"
          ],
          "name": "stdout"
        },
        {
          "output_type": "execute_result",
          "data": {
            "text/plain": [
              "Text(0.5, 1.0, 'Búsqueda')"
            ]
          },
          "metadata": {
            "tags": []
          },
          "execution_count": 125
        },
        {
          "output_type": "display_data",
          "data": {
            "image/png": "[encoded data removed]",
            "text/plain": [
              "<Figure size 432x288 with 2 Axes>"
            ]
          },
          "metadata": {
            "tags": [],
            "needs_background": "light"
          }
        }
      ]
    },
    {
      "cell_type": "code",
      "metadata": {
        "colab": {
          "base_uri": "https://localhost:8080/"
        },
        "id": "ZryRXIP36Nld",
        "outputId": "66c8cb4b-0136-4e90-8800-1fc296909843"
      },
      "source": [
        "print(classification_report(y_test, pred1))"
      ],
      "execution_count": null,
      "outputs": [
        {
          "output_type": "stream",
          "text": [
            "              precision    recall  f1-score   support\n",
            "\n",
            "           0       1.00      0.99      0.99    828659\n",
            "           1       0.16      0.60      0.25      2464\n",
            "\n",
            "    accuracy                           0.99    831123\n",
            "   macro avg       0.58      0.80      0.62    831123\n",
            "weighted avg       1.00      0.99      0.99    831123\n",
            "\n"
          ],
          "name": "stdout"
        }
      ]
    },
    {
      "cell_type": "code",
      "metadata": {
        "colab": {
          "base_uri": "https://localhost:8080/",
          "height": 279
        },
        "id": "vtZTYphNtpFl",
        "outputId": "3f84f3a2-85a5-4a31-adaa-f12f7ce99b20"
      },
      "source": [
        "ax = plt.gca()\n",
        "rfc_disp = plot_roc_curve(model1, X_test_n, y_test, ax=ax, alpha=0.8)\n",
        "plt.show()"
      ],
      "execution_count": null,
      "outputs": [
        {
          "output_type": "display_data",
          "data": {
            "image/png": "[encoded data removed]",
            "text/plain": [
              "<Figure size 432x288 with 1 Axes>"
            ]
          },
          "metadata": {
            "tags": [],
            "needs_background": "light"
          }
        }
      ]
    },
    {
      "cell_type": "code",
      "metadata": {
        "colab": {
          "base_uri": "https://localhost:8080/",
          "height": 279
        },
        "id": "5F8tkNEr7s2P",
        "outputId": "0d2ac13f-2bde-4317-a55a-218fe7e1fdc6"
      },
      "source": [
        "ax = plt.gca()\n",
        "rfc_disp = plot_roc_curve(model1, X_train_n, y_train, ax=ax, alpha=0.8)\n",
        "plt.show()"
      ],
      "execution_count": null,
      "outputs": [
        {
          "output_type": "display_data",
          "data": {
            "image/png": "[encoded data removed]",
            "text/plain": [
              "<Figure size 432x288 with 1 Axes>"
            ]
          },
          "metadata": {
            "tags": [],
            "needs_background": "light"
          }
        }
      ]
    },
    {
      "cell_type": "markdown",
      "metadata": {
        "id": "QaZvIYSGlO3d"
      },
      "source": [
        "**Modelo 3: NaiveBayes**"
      ]
    },
    {
      "cell_type": "code",
      "metadata": {
        "id": "piz0KhDTXfj3"
      },
      "source": [
        "from sklearn.naive_bayes import GaussianNB\n",
        "\n",
        "grid_values2 = {'var_smoothing': [1e-2, 1e-4, 1e-6, 1e-10, 1e-15]}"
      ],
      "execution_count": null,
      "outputs": []
    },
    {
      "cell_type": "code",
      "metadata": {
        "colab": {
          "base_uri": "https://localhost:8080/"
        },
        "id": "FptTK-cHe84U",
        "outputId": "53918f0a-31a2-4f81-ddf3-0960ee2e0b02"
      },
      "source": [
        "grid_clf2 = GridSearchCV(GaussianNB(), cv=skf, param_grid=grid_values2)\n",
        "grid_clf2.fit(X_train_n, y_train)"
      ],
      "execution_count": null,
      "outputs": [
        {
          "output_type": "execute_result",
          "data": {
            "text/plain": [
              "GridSearchCV(cv=StratifiedKFold(n_splits=3, random_state=None, shuffle=False),\n",
              "             error_score=nan,\n",
              "             estimator=GaussianNB(priors=None, var_smoothing=1e-09),\n",
              "             iid='deprecated', n_jobs=None,\n",
              "             param_grid={'var_smoothing': [0.01, 0.0001, 1e-06, 1e-10, 1e-15]},\n",
              "             pre_dispatch='2*n_jobs', refit=True, return_train_score=False,\n",
              "             scoring=None, verbose=0)"
            ]
          },
          "metadata": {
            "tags": []
          },
          "execution_count": 130
        }
      ]
    },
    {
      "cell_type": "code",
      "metadata": {
        "colab": {
          "base_uri": "https://localhost:8080/"
        },
        "id": "N_FdQJsWV_ea",
        "outputId": "112889df-8150-4161-dc43-4fc39e3cea6e"
      },
      "source": [
        "model2 = grid_clf2.best_estimator_\n",
        "model2"
      ],
      "execution_count": null,
      "outputs": [
        {
          "output_type": "execute_result",
          "data": {
            "text/plain": [
              "GaussianNB(priors=None, var_smoothing=0.01)"
            ]
          },
          "metadata": {
            "tags": []
          },
          "execution_count": 131
        }
      ]
    },
    {
      "cell_type": "code",
      "metadata": {
        "colab": {
          "base_uri": "https://localhost:8080/"
        },
        "id": "9jwsT78ce8zU",
        "outputId": "d6be89ec-a111-4584-c02f-9fd3a089322b"
      },
      "source": [
        " pred2 = model2.predict(X_test_n)\n",
        " print(confusion_matrix(y_test, pred2))"
      ],
      "execution_count": null,
      "outputs": [
        {
          "output_type": "stream",
          "text": [
            "[[818818   9841]\n",
            " [  1475    989]]\n"
          ],
          "name": "stdout"
        }
      ]
    },
    {
      "cell_type": "code",
      "metadata": {
        "colab": {
          "base_uri": "https://localhost:8080/"
        },
        "id": "sFO9lDKbXUoT",
        "outputId": "84a945f8-4e7a-4191-b76d-9ab45ccfebbc"
      },
      "source": [
        "scores5 = cross_val_score(model2, X_train_n, y_train, cv=skf, scoring=\"accuracy\")\n",
        "scores5"
      ],
      "execution_count": null,
      "outputs": [
        {
          "output_type": "execute_result",
          "data": {
            "text/plain": [
              "array([0.98603095, 0.98553747, 0.98662032])"
            ]
          },
          "metadata": {
            "tags": []
          },
          "execution_count": 133
        }
      ]
    },
    {
      "cell_type": "code",
      "metadata": {
        "colab": {
          "base_uri": "https://localhost:8080/"
        },
        "id": "E1zzUygaXgR_",
        "outputId": "22d42c98-a439-494e-cdd2-9664032da42e"
      },
      "source": [
        "scores6 = cross_val_score(model2, X_train_n, y_train, cv=skf, scoring=\"recall\")\n",
        "scores6"
      ],
      "execution_count": null,
      "outputs": [
        {
          "output_type": "execute_result",
          "data": {
            "text/plain": [
              "array([0.41544885, 0.42514345, 0.4065762 ])"
            ]
          },
          "metadata": {
            "tags": []
          },
          "execution_count": 134
        }
      ]
    },
    {
      "cell_type": "code",
      "metadata": {
        "colab": {
          "base_uri": "https://localhost:8080/",
          "height": 331
        },
        "id": "qkkSw0iI8P40",
        "outputId": "5bd6ee3e-e3b6-4c96-b528-65f4eb9cfc2a"
      },
      "source": [
        "print('Accuracy test búsqueda = '+str(accuracy_score(y_test,model2.predict(X_test_n))))\n",
        "\n",
        "disp = plot_confusion_matrix(model2, X_test_n, y_test,normalize='true')\n",
        "disp.ax_.set_title('Búsqueda')"
      ],
      "execution_count": null,
      "outputs": [
        {
          "output_type": "stream",
          "text": [
            "Accuracy test búsqueda = 0.9863846867431174\n"
          ],
          "name": "stdout"
        },
        {
          "output_type": "execute_result",
          "data": {
            "text/plain": [
              "Text(0.5, 1.0, 'Búsqueda')"
            ]
          },
          "metadata": {
            "tags": []
          },
          "execution_count": 137
        },
        {
          "output_type": "display_data",
          "data": {
            "image/png": "[encoded data removed]",
            "text/plain": [
              "<Figure size 432x288 with 2 Axes>"
            ]
          },
          "metadata": {
            "tags": [],
            "needs_background": "light"
          }
        }
      ]
    },
    {
      "cell_type": "code",
      "metadata": {
        "colab": {
          "base_uri": "https://localhost:8080/",
          "height": 331
        },
        "id": "bCFdPQe7XgDi",
        "outputId": "73a909d8-f1b4-4e9d-eaa0-339e457d2788"
      },
      "source": [
        "print('Balanced Accuracy test búsqueda = '+str(balanced_accuracy_score(y_test,model2.predict(X_test_n))))\n",
        "\n",
        "disp = plot_confusion_matrix(model2, X_test_n, y_test,normalize='true')\n",
        "disp.ax_.set_title('Búsqueda')"
      ],
      "execution_count": null,
      "outputs": [
        {
          "output_type": "stream",
          "text": [
            "Balanced Accuracy test búsqueda = 0.6947520281575099\n"
          ],
          "name": "stdout"
        },
        {
          "output_type": "execute_result",
          "data": {
            "text/plain": [
              "Text(0.5, 1.0, 'Búsqueda')"
            ]
          },
          "metadata": {
            "tags": []
          },
          "execution_count": 136
        },
        {
          "output_type": "display_data",
          "data": {
            "image/png": "[encoded data removed]",
            "text/plain": [
              "<Figure size 432x288 with 2 Axes>"
            ]
          },
          "metadata": {
            "tags": [],
            "needs_background": "light"
          }
        }
      ]
    },
    {
      "cell_type": "code",
      "metadata": {
        "colab": {
          "base_uri": "https://localhost:8080/"
        },
        "id": "0TQ-YoX_o0Kf",
        "outputId": "e86d13ba-f6a0-4ea5-99f5-ce60f44a8581"
      },
      "source": [
        "print(classification_report(y_test, pred2))"
      ],
      "execution_count": null,
      "outputs": [
        {
          "output_type": "stream",
          "text": [
            "              precision    recall  f1-score   support\n",
            "\n",
            "           0       1.00      0.99      0.99    828659\n",
            "           1       0.09      0.40      0.15      2464\n",
            "\n",
            "    accuracy                           0.99    831123\n",
            "   macro avg       0.54      0.69      0.57    831123\n",
            "weighted avg       1.00      0.99      0.99    831123\n",
            "\n"
          ],
          "name": "stdout"
        }
      ]
    },
    {
      "cell_type": "code",
      "metadata": {
        "colab": {
          "base_uri": "https://localhost:8080/",
          "height": 279
        },
        "id": "4F1uZsn4gecR",
        "outputId": "33123043-1a2f-4cae-f204-edf0210203ad"
      },
      "source": [
        "ax = plt.gca()\n",
        "rfc_disp = plot_roc_curve(model2, X_test_n, y_test, ax=ax, alpha=0.8)\n",
        "plt.show()"
      ],
      "execution_count": null,
      "outputs": [
        {
          "output_type": "display_data",
          "data": {
            "image/png": "[encoded data removed]",
            "text/plain": [
              "<Figure size 432x288 with 1 Axes>"
            ]
          },
          "metadata": {
            "tags": [],
            "needs_background": "light"
          }
        }
      ]
    },
    {
      "cell_type": "code",
      "metadata": {
        "colab": {
          "base_uri": "https://localhost:8080/",
          "height": 279
        },
        "id": "QYwN3S698Yfl",
        "outputId": "b4c5b91f-e7bf-4b44-a3fd-c8c0c78649e1"
      },
      "source": [
        "ax = plt.gca()\n",
        "rfc_disp = plot_roc_curve(model2, X_train_n, y_train, ax=ax, alpha=0.8)\n",
        "plt.show()"
      ],
      "execution_count": null,
      "outputs": [
        {
          "output_type": "display_data",
          "data": {
            "image/png": "[encoded data removed]",
            "text/plain": [
              "<Figure size 432x288 with 1 Axes>"
            ]
          },
          "metadata": {
            "tags": [],
            "needs_background": "light"
          }
        }
      ]
    },
    {
      "cell_type": "markdown",
      "metadata": {
        "id": "aX9SX14VZra3"
      },
      "source": [
        "**Modelo 4: Red Neuronal**"
      ]
    },
    {
      "cell_type": "code",
      "metadata": {
        "id": "0gM9qE0LdljO"
      },
      "source": [
        "import keras\n",
        "from keras.models import Sequential\n",
        "from keras.layers import Dense, Dropout\n",
        "from keras.utils import to_categorical\n",
        "import tensorflow as tf\n",
        "keras.backend.clear_session()\n",
        "\n",
        "modelA= keras.models.Sequential()\n",
        "modelA.add(keras.layers.Dense(25, input_dim=X_train_n.shape[1], activation='relu', kernel_initializer='he_uniform'))\n",
        "modelA.add(keras.layers.Dropout(0.4))\n",
        "modelA.add(keras.layers.Dense(10, input_dim=X_train_n.shape[1], activation='relu', kernel_initializer='he_uniform'))\n",
        "modelA.add(keras.layers.Dense(1, activation='sigmoid'))\n",
        "\n",
        "opt = keras.optimizers.SGD(lr=0.01, momentum=0.9)\n",
        "modelA.compile(loss = 'binary_crossentropy', optimizer = opt, metrics=[tf.keras.metrics.AUC(curve='ROC')])\n"
      ],
      "execution_count": null,
      "outputs": []
    },
    {
      "cell_type": "code",
      "metadata": {
        "colab": {
          "base_uri": "https://localhost:8080/"
        },
        "id": "kj9ta8k1ZzLE",
        "outputId": "84ffbd06-de81-411b-acbc-469dec2f66aa"
      },
      "source": [
        "history = modelA.fit(X_train_n, y_train, validation_data=(scaler.fit_transform(X_test), y_test), epochs=10)"
      ],
      "execution_count": null,
      "outputs": [
        {
          "output_type": "stream",
          "text": [
            "Epoch 1/10\n",
            "60603/60603 [==============================] - 102s 2ms/step - loss: 0.0145 - auc: 0.8647 - val_loss: 0.0073 - val_auc: 0.9428\n",
            "Epoch 2/10\n",
            "60603/60603 [==============================] - 102s 2ms/step - loss: 0.0076 - auc: 0.9309 - val_loss: 0.0062 - val_auc: 0.9519\n",
            "Epoch 3/10\n",
            "60603/60603 [==============================] - 102s 2ms/step - loss: 0.0067 - auc: 0.9451 - val_loss: 0.0057 - val_auc: 0.9467\n",
            "Epoch 4/10\n",
            "60603/60603 [==============================] - 106s 2ms/step - loss: 0.0062 - auc: 0.9484 - val_loss: 0.0054 - val_auc: 0.9621\n",
            "Epoch 5/10\n",
            "60603/60603 [==============================] - 102s 2ms/step - loss: 0.0060 - auc: 0.9515 - val_loss: 0.0051 - val_auc: 0.9571\n",
            "Epoch 6/10\n",
            "60603/60603 [==============================] - 102s 2ms/step - loss: 0.0058 - auc: 0.9518 - val_loss: 0.0052 - val_auc: 0.9585\n",
            "Epoch 7/10\n",
            "60603/60603 [==============================] - 101s 2ms/step - loss: 0.0062 - auc: 0.9577 - val_loss: 0.0051 - val_auc: 0.9536\n",
            "Epoch 8/10\n",
            "60603/60603 [==============================] - 102s 2ms/step - loss: 0.0057 - auc: 0.9605 - val_loss: 0.0046 - val_auc: 0.9720\n",
            "Epoch 9/10\n",
            "60603/60603 [==============================] - 101s 2ms/step - loss: 0.0053 - auc: 0.9601 - val_loss: 0.0045 - val_auc: 0.9596\n",
            "Epoch 10/10\n",
            "60603/60603 [==============================] - 108s 2ms/step - loss: 0.0051 - auc: 0.9625 - val_loss: 0.0049 - val_auc: 0.9609\n"
          ],
          "name": "stdout"
        }
      ]
    },
    {
      "cell_type": "code",
      "metadata": {
        "colab": {
          "base_uri": "https://localhost:8080/"
        },
        "id": "ZzcC0c6vqqHx",
        "outputId": "87ea2964-b8de-44bc-833a-ccea49aa8444"
      },
      "source": [
        "from sklearn.metrics import confusion_matrix\n",
        "pred3=modelA.predict_classes(scaler.fit_transform(X_test_n))\n",
        "Cm = confusion_matrix(y_test,pred3)\n",
        "Cm"
      ],
      "execution_count": null,
      "outputs": [
        {
          "output_type": "stream",
          "text": [
            "/usr/local/lib/python3.7/dist-packages/tensorflow/python/keras/engine/sequential.py:450: UserWarning: `model.predict_classes()` is deprecated and will be removed after 2021-01-01. Please use instead:* `np.argmax(model.predict(x), axis=-1)`,   if your model does multi-class classification   (e.g. if it uses a `softmax` last-layer activation).* `(model.predict(x) > 0.5).astype(\"int32\")`,   if your model does binary classification   (e.g. if it uses a `sigmoid` last-layer activation).\n",
            "  warnings.warn('`model.predict_classes()` is deprecated and '\n"
          ],
          "name": "stderr"
        },
        {
          "output_type": "execute_result",
          "data": {
            "text/plain": [
              "array([[828621,     38],\n",
              "       [  1042,   1422]])"
            ]
          },
          "metadata": {
            "tags": []
          },
          "execution_count": 45
        }
      ]
    },
    {
      "cell_type": "code",
      "metadata": {
        "colab": {
          "base_uri": "https://localhost:8080/"
        },
        "id": "Qnqh0Z7xglWW",
        "outputId": "6f2628c9-c1b0-4aea-f568-218048f106c5"
      },
      "source": [
        "print(classification_report(y_test, pred3))"
      ],
      "execution_count": null,
      "outputs": [
        {
          "output_type": "stream",
          "text": [
            "              precision    recall  f1-score   support\n",
            "\n",
            "           0       1.00      1.00      1.00    828659\n",
            "           1       0.97      0.58      0.72      2464\n",
            "\n",
            "    accuracy                           1.00    831123\n",
            "   macro avg       0.99      0.79      0.86    831123\n",
            "weighted avg       1.00      1.00      1.00    831123\n",
            "\n"
          ],
          "name": "stdout"
        }
      ]
    },
    {
      "cell_type": "markdown",
      "metadata": {
        "id": "L2Zo0ZxQNvcJ"
      },
      "source": [
        "Evaluamos el modelo"
      ]
    },
    {
      "cell_type": "code",
      "metadata": {
        "colab": {
          "base_uri": "https://localhost:8080/",
          "height": 283
        },
        "id": "fin_MqEEr6Ls",
        "outputId": "18258f11-5cb5-403e-e596-5d2055e61093"
      },
      "source": [
        "_, train_acc = modelA.evaluate(X_train_n, y_train, verbose=0)\n",
        "_, test_acc = modelA.evaluate(scaler.fit_transform(X_test_n), y_test, verbose=0)\n",
        "print('Train: %.3f, Test: %.3f' % (train_acc, test_acc))\n",
        "\n",
        "plt.plot(history.history['auc'], label='train')\n",
        "plt.plot(history.history['val_auc'], label='test')\n",
        "plt.legend()\n",
        "plt.show()"
      ],
      "execution_count": null,
      "outputs": [
        {
          "output_type": "stream",
          "text": [
            "Train: 0.972, Test: 0.961\n"
          ],
          "name": "stdout"
        },
        {
          "output_type": "display_data",
          "data": {
            "image/png": "[encoded data removed]",
            "text/plain": [
              "<Figure size 432x288 with 1 Axes>"
            ]
          },
          "metadata": {
            "tags": [],
            "needs_background": "light"
          }
        }
      ]
    },
    {
      "cell_type": "markdown",
      "metadata": {
        "id": "4IBGd_foXgVB"
      },
      "source": [
        "**Aplicación de la técnica de SMOTE (Datos sintéticos)**"
      ]
    },
    {
      "cell_type": "code",
      "metadata": {
        "colab": {
          "base_uri": "https://localhost:8080/"
        },
        "id": "ieOLZOMNVOGL",
        "outputId": "975dcf60-393b-415b-bd7e-e293b40a41de"
      },
      "source": [
        "from imblearn.over_sampling import RandomOverSampler\n",
        "from imblearn.combine import SMOTETomek, ADASYN \n",
        "\n",
        "from imblearn.over_sampling import SMOTE\n",
        "smt = SMOTE()\n",
        "X_train_SMOTE, y_train_SMOTE = smt.fit_sample(X_train_n, y_train)\n",
        "\n"
      ],
      "execution_count": null,
      "outputs": [
        {
          "output_type": "stream",
          "text": [
            "/usr/local/lib/python3.7/dist-packages/sklearn/externals/six.py:31: FutureWarning: The module is deprecated in version 0.21 and will be removed in version 0.23 since we've dropped support for Python 2.7. Please rely on the official version of six (https://pypi.org/project/six/).\n",
            "  \"(https://pypi.org/project/six/).\", FutureWarning)\n",
            "/usr/local/lib/python3.7/dist-packages/sklearn/utils/deprecation.py:144: FutureWarning: The sklearn.neighbors.base module is  deprecated in version 0.22 and will be removed in version 0.24. The corresponding classes / functions should instead be imported from sklearn.neighbors. Anything that cannot be imported from sklearn.neighbors is now part of the private API.\n",
            "  warnings.warn(message, FutureWarning)\n",
            "/usr/local/lib/python3.7/dist-packages/sklearn/utils/deprecation.py:87: FutureWarning: Function safe_indexing is deprecated; safe_indexing is deprecated in version 0.22 and will be removed in version 0.24.\n",
            "  warnings.warn(msg, category=FutureWarning)\n"
          ],
          "name": "stderr"
        }
      ]
    },
    {
      "cell_type": "code",
      "metadata": {
        "colab": {
          "base_uri": "https://localhost:8080/"
        },
        "id": "-qkLUC68Va2e",
        "outputId": "4ea2c6e2-5ed0-40a0-aed0-810ed0b6e245"
      },
      "source": [
        "from collections import Counter\n",
        "print(\"Antes de SMOTE: \", Counter(y_train))\n",
        "print(\"Despues de SMOTE: \", Counter(y_train_SMOTE))"
      ],
      "execution_count": null,
      "outputs": [
        {
          "output_type": "stream",
          "text": [
            "Antes de SMOTE:  Counter({0: 1933537, 1: 5749})\n",
            "Despues de SMOTE:  Counter({0: 1933537, 1: 1933537})\n"
          ],
          "name": "stdout"
        }
      ]
    },
    {
      "cell_type": "markdown",
      "metadata": {
        "id": "39JlzNPEXrsx"
      },
      "source": [
        "**Predicción de los modelos anteriores teniendo en cuenta SMOTE**"
      ]
    },
    {
      "cell_type": "markdown",
      "metadata": {
        "id": "33nJ7sDLGbC6"
      },
      "source": [
        "**Modelo 1: Smote con Regresion Logistica**"
      ]
    },
    {
      "cell_type": "code",
      "metadata": {
        "id": "AeD4fTOKqpc2"
      },
      "source": [
        "from sklearn.linear_model import LogisticRegression\n",
        "from sklearn.model_selection import GridSearchCV"
      ],
      "execution_count": null,
      "outputs": []
    },
    {
      "cell_type": "code",
      "metadata": {
        "colab": {
          "base_uri": "https://localhost:8080/"
        },
        "id": "QDM8wCUPgCrh",
        "outputId": "c18e46d3-9abb-42d4-9c79-26764de19228"
      },
      "source": [
        "clf_sm =LogisticRegression()\n",
        "grid_values_sm = {'penalty': ['l2'],'C':[0.001,0.01,0.8]}\n",
        "grid_clf_sm = GridSearchCV(clf_sm, param_grid = grid_values_sm, cv=skf, scoring = 'recall')\n",
        "\n",
        "clf_sm.fit(X_train_SMOTE,y_train_SMOTE)\n",
        "y_predict1 = clf_sm.predict(X_test_n) \n",
        "print(accuracy_score(y_test,y_predict1))"
      ],
      "execution_count": null,
      "outputs": [
        {
          "output_type": "stream",
          "text": [
            "0.9467383287431583\n"
          ],
          "name": "stdout"
        }
      ]
    },
    {
      "cell_type": "code",
      "metadata": {
        "colab": {
          "base_uri": "https://localhost:8080/"
        },
        "id": "qokrJdfsgDV2",
        "outputId": "65413f8e-1da8-470f-e917-66c5535d80df"
      },
      "source": [
        "print(confusion_matrix(y_test, y_predict1))"
      ],
      "execution_count": null,
      "outputs": [
        {
          "output_type": "stream",
          "text": [
            "[[784638  44021]\n",
            " [   246   2218]]\n"
          ],
          "name": "stdout"
        }
      ]
    },
    {
      "cell_type": "code",
      "metadata": {
        "colab": {
          "base_uri": "https://localhost:8080/",
          "height": 331
        },
        "id": "ix5BD7Mg6a-W",
        "outputId": "c6262170-0161-441d-c482-5a60098eb240"
      },
      "source": [
        "print('Accuracy test búsqueda = '+str(accuracy_score(y_test, clf_sm.predict(X_test_n))))\n",
        "\n",
        "disp = plot_confusion_matrix(clf_sm, X_test_n, y_test,normalize='true')\n",
        "disp.ax_.set_title('Búsqueda')"
      ],
      "execution_count": null,
      "outputs": [
        {
          "output_type": "stream",
          "text": [
            "Accuracy test búsqueda = 0.9467383287431583\n"
          ],
          "name": "stdout"
        },
        {
          "output_type": "execute_result",
          "data": {
            "text/plain": [
              "Text(0.5, 1.0, 'Búsqueda')"
            ]
          },
          "metadata": {
            "tags": []
          },
          "execution_count": 46
        },
        {
          "output_type": "display_data",
          "data": {
            "image/png": "[encoded data removed]",
            "text/plain": [
              "<Figure size 432x288 with 2 Axes>"
            ]
          },
          "metadata": {
            "tags": [],
            "needs_background": "light"
          }
        }
      ]
    },
    {
      "cell_type": "code",
      "metadata": {
        "colab": {
          "base_uri": "https://localhost:8080/",
          "height": 331
        },
        "id": "Ym5ehkHRHLpE",
        "outputId": "3a7818bf-e82b-4fe5-f86f-49c64d78f6b8"
      },
      "source": [
        "print('Balanced Accuracy test búsqueda = '+str(balanced_accuracy_score(y_test, clf_sm.predict(X_test_n))))\n",
        "\n",
        "disp = plot_confusion_matrix(clf_sm, X_test_n, y_test,normalize='true')\n",
        "disp.ax_.set_title('Búsqueda')"
      ],
      "execution_count": null,
      "outputs": [
        {
          "output_type": "stream",
          "text": [
            "Balanced Accuracy test búsqueda = 0.9235195795646551\n"
          ],
          "name": "stdout"
        },
        {
          "output_type": "execute_result",
          "data": {
            "text/plain": [
              "Text(0.5, 1.0, 'Búsqueda')"
            ]
          },
          "metadata": {
            "tags": []
          },
          "execution_count": 45
        },
        {
          "output_type": "display_data",
          "data": {
            "image/png": "[encoded data removed]",
            "text/plain": [
              "<Figure size 432x288 with 2 Axes>"
            ]
          },
          "metadata": {
            "tags": [],
            "needs_background": "light"
          }
        }
      ]
    },
    {
      "cell_type": "code",
      "metadata": {
        "colab": {
          "base_uri": "https://localhost:8080/"
        },
        "id": "sFstNDZqHLaT",
        "outputId": "681a816a-4783-4e68-e5db-b5418df88069"
      },
      "source": [
        "print(classification_report(y_test, y_predict1))"
      ],
      "execution_count": null,
      "outputs": [
        {
          "output_type": "stream",
          "text": [
            "              precision    recall  f1-score   support\n",
            "\n",
            "           0       1.00      0.95      0.97    828659\n",
            "           1       0.05      0.90      0.09      2464\n",
            "\n",
            "    accuracy                           0.95    831123\n",
            "   macro avg       0.52      0.92      0.53    831123\n",
            "weighted avg       1.00      0.95      0.97    831123\n",
            "\n"
          ],
          "name": "stdout"
        }
      ]
    },
    {
      "cell_type": "code",
      "metadata": {
        "colab": {
          "base_uri": "https://localhost:8080/",
          "height": 279
        },
        "id": "xalmcO2FstEk",
        "outputId": "cb298e6d-03f4-41b3-defd-b21f25cfc496"
      },
      "source": [
        "ax = plt.gca()\n",
        "rfc_disp = plot_roc_curve(clf_sm, X_test_n, y_test, ax=ax, alpha=0.8)\n",
        "plt.show()"
      ],
      "execution_count": null,
      "outputs": [
        {
          "output_type": "display_data",
          "data": {
            "image/png": "[encoded data removed]",
            "text/plain": [
              "<Figure size 432x288 with 1 Axes>"
            ]
          },
          "metadata": {
            "tags": [],
            "needs_background": "light"
          }
        }
      ]
    },
    {
      "cell_type": "code",
      "metadata": {
        "colab": {
          "base_uri": "https://localhost:8080/",
          "height": 279
        },
        "id": "pZCLPwOg6t8P",
        "outputId": "64ec1ccb-f238-406b-cc7b-f680b81bc195"
      },
      "source": [
        "ax = plt.gca()\n",
        "rfc_disp = plot_roc_curve(clf_sm, X_train_SMOTE, y_train_SMOTE, ax=ax, alpha=0.8)\n",
        "plt.show()"
      ],
      "execution_count": null,
      "outputs": [
        {
          "output_type": "display_data",
          "data": {
            "image/png": "[encoded data removed]",
            "text/plain": [
              "<Figure size 432x288 with 1 Axes>"
            ]
          },
          "metadata": {
            "tags": [],
            "needs_background": "light"
          }
        }
      ]
    },
    {
      "cell_type": "markdown",
      "metadata": {
        "id": "g_4sKv0xHMOH"
      },
      "source": [
        "**Modelo 2: Smote con RandomForestClassifier**"
      ]
    },
    {
      "cell_type": "code",
      "metadata": {
        "id": "hoFlVOzT7Vfr"
      },
      "source": [
        "st = StratifiedShuffleSplit(n_splits=5, test_size=0.2, random_state=0)"
      ],
      "execution_count": null,
      "outputs": []
    },
    {
      "cell_type": "code",
      "metadata": {
        "colab": {
          "base_uri": "https://localhost:8080/"
        },
        "id": "3nKirG1ktO2k",
        "outputId": "4ca8e40a-913c-4238-c0ef-8b4ea426aadc"
      },
      "source": [
        "B=[5, 10, 15]\n",
        "grid_values1_sm = {'n_estimators':B, 'max_depth':[3, 4]}\n",
        "\n",
        "clf1_sm = RandomForestClassifier(random_state=0, n_jobs=-1)\n",
        "grid_clf1_sm = GridSearchCV(estimator=clf1_sm, param_grid = grid_values1_sm, cv=st ,return_train_score=True)\n",
        "grid_clf1_sm.fit(X_train_SMOTE, y_train_SMOTE)"
      ],
      "execution_count": null,
      "outputs": [
        {
          "output_type": "execute_result",
          "data": {
            "text/plain": [
              "GridSearchCV(cv=StratifiedShuffleSplit(n_splits=5, random_state=0, test_size=0.2,\n",
              "            train_size=None),\n",
              "             error_score=nan,\n",
              "             estimator=RandomForestClassifier(bootstrap=True, ccp_alpha=0.0,\n",
              "                                              class_weight=None,\n",
              "                                              criterion='gini', max_depth=None,\n",
              "                                              max_features='auto',\n",
              "                                              max_leaf_nodes=None,\n",
              "                                              max_samples=None,\n",
              "                                              min_impurity_decrease=0.0,\n",
              "                                              min_impurity_split=None,\n",
              "                                              min_samples_leaf=1,\n",
              "                                              min_samples_split=2,\n",
              "                                              min_weight_fraction_leaf=0.0,\n",
              "                                              n_estimators=100, n_jobs=-1,\n",
              "                                              oob_score=False, random_state=0,\n",
              "                                              verbose=0, warm_start=False),\n",
              "             iid='deprecated', n_jobs=None,\n",
              "             param_grid={'max_depth': [3, 4], 'n_estimators': [5, 10, 15]},\n",
              "             pre_dispatch='2*n_jobs', refit=True, return_train_score=True,\n",
              "             scoring=None, verbose=0)"
            ]
          },
          "metadata": {
            "tags": []
          },
          "execution_count": 52
        }
      ]
    },
    {
      "cell_type": "code",
      "metadata": {
        "colab": {
          "base_uri": "https://localhost:8080/"
        },
        "id": "F3J3l4zaWxXf",
        "outputId": "f22cf41e-cb3c-4255-ebfa-01cc97844a70"
      },
      "source": [
        "y_predict2 = grid_clf1_sm.predict(X_test_n)\n",
        "print(accuracy_score(y_test,y_predict2))"
      ],
      "execution_count": null,
      "outputs": [
        {
          "output_type": "stream",
          "text": [
            "0.9860249325310454\n"
          ],
          "name": "stdout"
        }
      ]
    },
    {
      "cell_type": "code",
      "metadata": {
        "colab": {
          "base_uri": "https://localhost:8080/"
        },
        "id": "FWXRbId3dmlv",
        "outputId": "bcbf2bc0-5460-4e40-ce31-97113dd37d60"
      },
      "source": [
        "print(confusion_matrix(y_test, y_predict2))"
      ],
      "execution_count": null,
      "outputs": [
        {
          "output_type": "stream",
          "text": [
            "[[818189  10470]\n",
            " [  1145   1319]]\n"
          ],
          "name": "stdout"
        }
      ]
    },
    {
      "cell_type": "code",
      "metadata": {
        "colab": {
          "base_uri": "https://localhost:8080/",
          "height": 331
        },
        "id": "36UDYgG9-6iw",
        "outputId": "95e59948-d854-45f9-b216-0d48de1bd8c7"
      },
      "source": [
        "print('Accuracy test búsqueda = '+str(accuracy_score(y_test, grid_clf1_sm.predict(X_test_n))))\n",
        "\n",
        "disp = plot_confusion_matrix(grid_clf1_sm, X_test_n, y_test,normalize='true')\n",
        "disp.ax_.set_title('Búsqueda')"
      ],
      "execution_count": null,
      "outputs": [
        {
          "output_type": "stream",
          "text": [
            "Accuracy test búsqueda = 0.9860249325310454\n"
          ],
          "name": "stdout"
        },
        {
          "output_type": "execute_result",
          "data": {
            "text/plain": [
              "Text(0.5, 1.0, 'Búsqueda')"
            ]
          },
          "metadata": {
            "tags": []
          },
          "execution_count": 56
        },
        {
          "output_type": "display_data",
          "data": {
            "image/png": "[encoded data removed]",
            "text/plain": [
              "<Figure size 432x288 with 2 Axes>"
            ]
          },
          "metadata": {
            "tags": [],
            "needs_background": "light"
          }
        }
      ]
    },
    {
      "cell_type": "code",
      "metadata": {
        "colab": {
          "base_uri": "https://localhost:8080/",
          "height": 331
        },
        "id": "SbEms8IKIgaE",
        "outputId": "aaa08adc-d173-43a0-e28a-e1f41f3eee6e"
      },
      "source": [
        "print('Balanced Accuracy test búsqueda = '+str(balanced_accuracy_score(y_test, grid_clf1_sm.predict(X_test_n))))\n",
        "\n",
        "disp = plot_confusion_matrix(grid_clf1_sm, X_test_n, y_test,normalize='true')\n",
        "disp.ax_.set_title('Búsqueda')"
      ],
      "execution_count": null,
      "outputs": [
        {
          "output_type": "stream",
          "text": [
            "Balanced Accuracy test búsqueda = 0.7613367850185521\n"
          ],
          "name": "stdout"
        },
        {
          "output_type": "execute_result",
          "data": {
            "text/plain": [
              "Text(0.5, 1.0, 'Búsqueda')"
            ]
          },
          "metadata": {
            "tags": []
          },
          "execution_count": 55
        },
        {
          "output_type": "display_data",
          "data": {
            "image/png": "[encoded data removed]",
            "text/plain": [
              "<Figure size 432x288 with 2 Axes>"
            ]
          },
          "metadata": {
            "tags": [],
            "needs_background": "light"
          }
        }
      ]
    },
    {
      "cell_type": "code",
      "metadata": {
        "colab": {
          "base_uri": "https://localhost:8080/"
        },
        "id": "LUovKzibIf__",
        "outputId": "d775cc7c-163a-4f26-82b7-f4221f66e981"
      },
      "source": [
        "print(classification_report(y_test, y_predict2))"
      ],
      "execution_count": null,
      "outputs": [
        {
          "output_type": "stream",
          "text": [
            "              precision    recall  f1-score   support\n",
            "\n",
            "           0       1.00      0.99      0.99    828659\n",
            "           1       0.11      0.54      0.19      2464\n",
            "\n",
            "    accuracy                           0.99    831123\n",
            "   macro avg       0.56      0.76      0.59    831123\n",
            "weighted avg       1.00      0.99      0.99    831123\n",
            "\n"
          ],
          "name": "stdout"
        }
      ]
    },
    {
      "cell_type": "code",
      "metadata": {
        "colab": {
          "base_uri": "https://localhost:8080/",
          "height": 279
        },
        "id": "uUbuIoTc9HHE",
        "outputId": "45c0465a-d3bd-4256-9292-b70e054d5161"
      },
      "source": [
        "ax = plt.gca()\n",
        "rfc_disp = plot_roc_curve(grid_clf1_sm, X_test_n, y_test, ax=ax, alpha=0.8)\n",
        "plt.show()"
      ],
      "execution_count": null,
      "outputs": [
        {
          "output_type": "display_data",
          "data": {
            "image/png": "[encoded data removed]",
            "text/plain": [
              "<Figure size 432x288 with 1 Axes>"
            ]
          },
          "metadata": {
            "tags": [],
            "needs_background": "light"
          }
        }
      ]
    },
    {
      "cell_type": "code",
      "metadata": {
        "colab": {
          "base_uri": "https://localhost:8080/",
          "height": 279
        },
        "id": "cpFpIZyZ_QMB",
        "outputId": "089e616d-15db-4e44-c761-77b4a04f76eb"
      },
      "source": [
        "ax = plt.gca()\n",
        "rfc_disp = plot_roc_curve(grid_clf1_sm, X_train_SMOTE, y_train_SMOTE, ax=ax, alpha=0.8)\n",
        "plt.show()"
      ],
      "execution_count": null,
      "outputs": [
        {
          "output_type": "display_data",
          "data": {
            "image/png": "[encoded data removed]",
            "text/plain": [
              "<Figure size 432x288 with 1 Axes>"
            ]
          },
          "metadata": {
            "tags": [],
            "needs_background": "light"
          }
        }
      ]
    },
    {
      "cell_type": "markdown",
      "metadata": {
        "id": "gaWW-PY-BwuG"
      },
      "source": [
        "**Modelo 3: Smote con Naive Bayes**"
      ]
    },
    {
      "cell_type": "code",
      "metadata": {
        "id": "9Rpqbl4fBwXD"
      },
      "source": [
        "from sklearn.naive_bayes import GaussianNB\n",
        "\n",
        "grid_values2 = {'var_smoothing': [1e-2, 1e-4, 1e-6, 1e-10, 1e-15]}"
      ],
      "execution_count": null,
      "outputs": []
    },
    {
      "cell_type": "code",
      "metadata": {
        "colab": {
          "base_uri": "https://localhost:8080/"
        },
        "id": "mt38jnS3DY6E",
        "outputId": "0177ad06-12dd-4c0f-f216-63fdeb131307"
      },
      "source": [
        "grid_clf2_sm = GridSearchCV(GaussianNB(), cv=skf, param_grid=grid_values2)\n",
        "grid_clf2_sm.fit(X_train_SMOTE, y_train_SMOTE)"
      ],
      "execution_count": null,
      "outputs": [
        {
          "output_type": "execute_result",
          "data": {
            "text/plain": [
              "GridSearchCV(cv=StratifiedKFold(n_splits=3, random_state=None, shuffle=False),\n",
              "             error_score=nan,\n",
              "             estimator=GaussianNB(priors=None, var_smoothing=1e-09),\n",
              "             iid='deprecated', n_jobs=None,\n",
              "             param_grid={'var_smoothing': [0.01, 0.0001, 1e-06, 1e-10, 1e-15]},\n",
              "             pre_dispatch='2*n_jobs', refit=True, return_train_score=False,\n",
              "             scoring=None, verbose=0)"
            ]
          },
          "metadata": {
            "tags": []
          },
          "execution_count": 61
        }
      ]
    },
    {
      "cell_type": "code",
      "metadata": {
        "colab": {
          "base_uri": "https://localhost:8080/"
        },
        "id": "Gm8EhxsKBwP8",
        "outputId": "091886b0-e4cb-4fcd-f1ce-2540737184a3"
      },
      "source": [
        "model2_sm = grid_clf2_sm.best_estimator_\n",
        "model2_sm"
      ],
      "execution_count": null,
      "outputs": [
        {
          "output_type": "execute_result",
          "data": {
            "text/plain": [
              "GaussianNB(priors=None, var_smoothing=1e-10)"
            ]
          },
          "metadata": {
            "tags": []
          },
          "execution_count": 62
        }
      ]
    },
    {
      "cell_type": "code",
      "metadata": {
        "colab": {
          "base_uri": "https://localhost:8080/"
        },
        "id": "5EMKS6dgBwDs",
        "outputId": "69e6f1c8-a482-44ff-abfb-5011fdcd574b"
      },
      "source": [
        " pred2_sm = model2_sm.predict(X_test_n)\n",
        " print(confusion_matrix(y_test, pred2_sm))"
      ],
      "execution_count": null,
      "outputs": [
        {
          "output_type": "stream",
          "text": [
            "[[809442  19217]\n",
            " [  1256   1208]]\n"
          ],
          "name": "stdout"
        }
      ]
    },
    {
      "cell_type": "code",
      "metadata": {
        "colab": {
          "base_uri": "https://localhost:8080/"
        },
        "id": "qZKtoimtCzHN",
        "outputId": "01139da6-341d-4d8e-e177-6a0ea27006c6"
      },
      "source": [
        "scores10 = cross_val_score(model2_sm, X_train_SMOTE, y_train_SMOTE, cv=skf, scoring=\"accuracy\")\n",
        "scores10"
      ],
      "execution_count": null,
      "outputs": [
        {
          "output_type": "execute_result",
          "data": {
            "text/plain": [
              "array([0.74363181, 0.74664107, 0.74491398])"
            ]
          },
          "metadata": {
            "tags": []
          },
          "execution_count": 64
        }
      ]
    },
    {
      "cell_type": "code",
      "metadata": {
        "colab": {
          "base_uri": "https://localhost:8080/"
        },
        "id": "JJ6LU-JVCyod",
        "outputId": "d9767a55-dc5f-48e5-d089-78d7fe7c274c"
      },
      "source": [
        "scores11 = cross_val_score(model2_sm, X_train_SMOTE, y_train_SMOTE, cv=skf, scoring=\"recall\")\n",
        "scores11"
      ],
      "execution_count": null,
      "outputs": [
        {
          "output_type": "execute_result",
          "data": {
            "text/plain": [
              "array([0.51072594, 0.51763735, 0.51261419])"
            ]
          },
          "metadata": {
            "tags": []
          },
          "execution_count": 65
        }
      ]
    },
    {
      "cell_type": "code",
      "metadata": {
        "colab": {
          "base_uri": "https://localhost:8080/",
          "height": 331
        },
        "id": "VYtFggwiAUmB",
        "outputId": "5f572320-5fc3-403b-8dff-f4d3b60c3dcc"
      },
      "source": [
        "print('Accuracy test búsqueda = '+str(accuracy_score(y_test,model2_sm.predict(X_test_n))))\n",
        "\n",
        "disp = plot_confusion_matrix(model2_sm, X_test_n, y_test,normalize='true')\n",
        "disp.ax_.set_title('Búsqueda')"
      ],
      "execution_count": null,
      "outputs": [
        {
          "output_type": "stream",
          "text": [
            "Accuracy test búsqueda = 0.9753670635994913\n"
          ],
          "name": "stdout"
        },
        {
          "output_type": "execute_result",
          "data": {
            "text/plain": [
              "Text(0.5, 1.0, 'Búsqueda')"
            ]
          },
          "metadata": {
            "tags": []
          },
          "execution_count": 68
        },
        {
          "output_type": "display_data",
          "data": {
            "image/png": "[encoded data removed]",
            "text/plain": [
              "<Figure size 432x288 with 2 Axes>"
            ]
          },
          "metadata": {
            "tags": [],
            "needs_background": "light"
          }
        }
      ]
    },
    {
      "cell_type": "code",
      "metadata": {
        "colab": {
          "base_uri": "https://localhost:8080/",
          "height": 331
        },
        "id": "N3DBBJ1vDC9F",
        "outputId": "4ee1edd1-facc-4145-d059-b9a938036c75"
      },
      "source": [
        "print('Balanced Accuracy test búsqueda = '+str(balanced_accuracy_score(y_test,model2_sm.predict(X_test_n))))\n",
        "\n",
        "disp = plot_confusion_matrix(model2_sm, X_test_n, y_test,normalize='true')\n",
        "disp.ax_.set_title('Búsqueda')"
      ],
      "execution_count": null,
      "outputs": [
        {
          "output_type": "stream",
          "text": [
            "Balanced Accuracy test búsqueda = 0.7335346301095482\n"
          ],
          "name": "stdout"
        },
        {
          "output_type": "execute_result",
          "data": {
            "text/plain": [
              "Text(0.5, 1.0, 'Búsqueda')"
            ]
          },
          "metadata": {
            "tags": []
          },
          "execution_count": 67
        },
        {
          "output_type": "display_data",
          "data": {
            "image/png": "[encoded data removed]",
            "text/plain": [
              "<Figure size 432x288 with 2 Axes>"
            ]
          },
          "metadata": {
            "tags": [],
            "needs_background": "light"
          }
        }
      ]
    },
    {
      "cell_type": "code",
      "metadata": {
        "colab": {
          "base_uri": "https://localhost:8080/"
        },
        "id": "EUAKsHV4C868",
        "outputId": "9ffcd899-3bf2-4b37-b54f-ebbefbb29673"
      },
      "source": [
        "print(classification_report(y_test, pred2_sm))"
      ],
      "execution_count": null,
      "outputs": [
        {
          "output_type": "stream",
          "text": [
            "              precision    recall  f1-score   support\n",
            "\n",
            "           0       1.00      0.98      0.99    828659\n",
            "           1       0.06      0.49      0.11      2464\n",
            "\n",
            "    accuracy                           0.98    831123\n",
            "   macro avg       0.53      0.73      0.55    831123\n",
            "weighted avg       1.00      0.98      0.98    831123\n",
            "\n"
          ],
          "name": "stdout"
        }
      ]
    },
    {
      "cell_type": "code",
      "metadata": {
        "colab": {
          "base_uri": "https://localhost:8080/",
          "height": 279
        },
        "id": "IKhdChzqDC03",
        "outputId": "4018203d-6129-4896-ec5b-1abc611c64ac"
      },
      "source": [
        "ax = plt.gca()\n",
        "rfc_disp = plot_roc_curve(model2_sm, X_test_n, y_test, ax=ax, alpha=0.8)\n",
        "plt.show()"
      ],
      "execution_count": null,
      "outputs": [
        {
          "output_type": "display_data",
          "data": {
            "image/png": "[encoded data removed]",
            "text/plain": [
              "<Figure size 432x288 with 1 Axes>"
            ]
          },
          "metadata": {
            "tags": [],
            "needs_background": "light"
          }
        }
      ]
    },
    {
      "cell_type": "code",
      "metadata": {
        "id": "jO_d_eRLDCps",
        "colab": {
          "base_uri": "https://localhost:8080/",
          "height": 279
        },
        "outputId": "8d0b7da0-365a-4423-d444-1cfd5eef418b"
      },
      "source": [
        "ax = plt.gca()\n",
        "rfc_disp = plot_roc_curve(model2_sm, X_train_SMOTE, y_train_SMOTE, ax=ax, alpha=0.8)\n",
        "plt.show()"
      ],
      "execution_count": null,
      "outputs": [
        {
          "output_type": "display_data",
          "data": {
            "image/png": "[encoded data removed]",
            "text/plain": [
              "<Figure size 432x288 with 1 Axes>"
            ]
          },
          "metadata": {
            "tags": [],
            "needs_background": "light"
          }
        }
      ]
    },
    {
      "cell_type": "markdown",
      "metadata": {
        "id": "hwhSyoQ9AnaN"
      },
      "source": [
        "**Modelo 4: Smote con Red Neuronal**"
      ]
    },
    {
      "cell_type": "markdown",
      "metadata": {
        "id": "rdFnGRccN_vw"
      },
      "source": [
        "Ahora implementamos un red neuronal usando keras"
      ]
    },
    {
      "cell_type": "code",
      "metadata": {
        "id": "nzbQBkZ9AmUD"
      },
      "source": [
        "import keras\n",
        "from keras.models import Sequential\n",
        "from keras.layers import Dense, Dropout\n",
        "from keras.utils import to_categorical\n",
        "import tensorflow as tf\n",
        "keras.backend.clear_session()\n",
        "\n",
        "modelB= keras.models.Sequential()\n",
        "modelB.add(keras.layers.Dense(25, input_dim=X_train_SMOTE.shape[1], activation='relu', kernel_initializer='he_uniform'))\n",
        "modelB.add(keras.layers.Dropout(0.4))\n",
        "modelB.add(keras.layers.Dense(10, input_dim=X_train_SMOTE.shape[1], activation='relu', kernel_initializer='he_uniform'))\n",
        "modelB.add(keras.layers.Dense(1, activation='sigmoid'))\n",
        "\n",
        "opt = keras.optimizers.SGD(lr=0.01, momentum=0.9)\n",
        "modelB.compile(loss = 'binary_crossentropy', optimizer = opt, metrics=[tf.keras.metrics.AUC(curve='ROC')])\n"
      ],
      "execution_count": null,
      "outputs": []
    },
    {
      "cell_type": "code",
      "metadata": {
        "colab": {
          "base_uri": "https://localhost:8080/"
        },
        "id": "Tsm8vJt8BZR-",
        "outputId": "6bc92340-9e50-46d4-cf13-0d763618cfe4"
      },
      "source": [
        "historyB = modelB.fit(X_train_SMOTE, y_train_SMOTE, validation_data=(scaler.fit_transform(X_test), y_test), epochs=10)"
      ],
      "execution_count": null,
      "outputs": [
        {
          "output_type": "stream",
          "text": [
            "Epoch 1/10\n",
            "120847/120847 [==============================] - 192s 2ms/step - loss: 0.1043 - auc: 0.9915 - val_loss: 0.0402 - val_auc: 0.9964\n",
            "Epoch 2/10\n",
            "120847/120847 [==============================] - 194s 2ms/step - loss: 0.0589 - auc: 0.9965 - val_loss: 0.0611 - val_auc: 0.9961\n",
            "Epoch 3/10\n",
            "120847/120847 [==============================] - 189s 2ms/step - loss: 0.0740 - auc: 0.9957 - val_loss: 0.0276 - val_auc: 0.9959\n",
            "Epoch 4/10\n",
            "120847/120847 [==============================] - 192s 2ms/step - loss: 0.0844 - auc: 0.9932 - val_loss: 0.1201 - val_auc: 0.9837\n",
            "Epoch 5/10\n",
            "120847/120847 [==============================] - 191s 2ms/step - loss: 0.0858 - auc: 0.9932 - val_loss: 0.0284 - val_auc: 0.9957\n",
            "Epoch 6/10\n",
            "120847/120847 [==============================] - 190s 2ms/step - loss: 0.0607 - auc: 0.9962 - val_loss: 0.0141 - val_auc: 0.9955\n",
            "Epoch 7/10\n",
            "120847/120847 [==============================] - 190s 2ms/step - loss: 0.0624 - auc: 0.9960 - val_loss: 0.0747 - val_auc: 0.9848\n",
            "Epoch 8/10\n",
            "120847/120847 [==============================] - 186s 2ms/step - loss: 0.0718 - auc: 0.9957 - val_loss: 0.0198 - val_auc: 0.9968\n",
            "Epoch 9/10\n",
            "120847/120847 [==============================] - 185s 2ms/step - loss: 0.0553 - auc: 0.9965 - val_loss: 0.0176 - val_auc: 0.9966\n",
            "Epoch 10/10\n",
            "120847/120847 [==============================] - 191s 2ms/step - loss: 0.0562 - auc: 0.9964 - val_loss: 0.0254 - val_auc: 0.9945\n"
          ],
          "name": "stdout"
        }
      ]
    },
    {
      "cell_type": "code",
      "metadata": {
        "colab": {
          "base_uri": "https://localhost:8080/"
        },
        "id": "U6-HWxPAHNq0",
        "outputId": "8f3f3ecc-a731-40dc-ec78-7c139470cdb5"
      },
      "source": [
        "from sklearn.metrics import confusion_matrix\n",
        "pred5=modelB.predict_classes(scaler.fit_transform(X_test_n))\n",
        "Cm = confusion_matrix(y_test,pred5)\n",
        "Cm"
      ],
      "execution_count": null,
      "outputs": [
        {
          "output_type": "stream",
          "text": [
            "/usr/local/lib/python3.7/dist-packages/tensorflow/python/keras/engine/sequential.py:450: UserWarning: `model.predict_classes()` is deprecated and will be removed after 2021-01-01. Please use instead:* `np.argmax(model.predict(x), axis=-1)`,   if your model does multi-class classification   (e.g. if it uses a `softmax` last-layer activation).* `(model.predict(x) > 0.5).astype(\"int32\")`,   if your model does binary classification   (e.g. if it uses a `sigmoid` last-layer activation).\n",
            "  warnings.warn('`model.predict_classes()` is deprecated and '\n"
          ],
          "name": "stderr"
        },
        {
          "output_type": "execute_result",
          "data": {
            "text/plain": [
              "array([[824612,   4047],\n",
              "       [   323,   2141]])"
            ]
          },
          "metadata": {
            "tags": []
          },
          "execution_count": 52
        }
      ]
    },
    {
      "cell_type": "code",
      "metadata": {
        "colab": {
          "base_uri": "https://localhost:8080/"
        },
        "id": "4OWtH_qepByA",
        "outputId": "b07c5d74-feba-46ca-c67e-3ed602838648"
      },
      "source": [
        "print(classification_report(y_test, pred5))"
      ],
      "execution_count": null,
      "outputs": [
        {
          "output_type": "stream",
          "text": [
            "              precision    recall  f1-score   support\n",
            "\n",
            "           0       1.00      1.00      1.00    828659\n",
            "           1       0.35      0.87      0.49      2464\n",
            "\n",
            "    accuracy                           0.99    831123\n",
            "   macro avg       0.67      0.93      0.75    831123\n",
            "weighted avg       1.00      0.99      1.00    831123\n",
            "\n"
          ],
          "name": "stdout"
        }
      ]
    },
    {
      "cell_type": "markdown",
      "metadata": {
        "id": "rx1-GoeAOJyZ"
      },
      "source": [
        "Evaluamos el modelo"
      ]
    },
    {
      "cell_type": "code",
      "metadata": {
        "colab": {
          "base_uri": "https://localhost:8080/",
          "height": 283
        },
        "id": "0KM3whtDHdVh",
        "outputId": "3e8d287c-062d-49af-ef0b-14710fdb427a"
      },
      "source": [
        "_, train_acc = modelB.evaluate(X_train_SMOTE, y_train_SMOTE, verbose=0)\n",
        "_, test_acc = modelB.evaluate(scaler.fit_transform(X_test_n), y_test, verbose=0)\n",
        "print('Train: %.3f, Test: %.3f' % (train_acc, test_acc))\n",
        "\n",
        "plt.plot(historyB.history['auc'], label='train')\n",
        "plt.plot(historyB.history['val_auc'], label='test')\n",
        "plt.legend()\n",
        "plt.show()"
      ],
      "execution_count": null,
      "outputs": [
        {
          "output_type": "stream",
          "text": [
            "Train: 0.997, Test: 0.995\n"
          ],
          "name": "stdout"
        },
        {
          "output_type": "display_data",
          "data": {
            "image/png": "[encoded data removed]",
            "text/plain": [
              "<Figure size 432x288 with 1 Axes>"
            ]
          },
          "metadata": {
            "tags": [],
            "needs_background": "light"
          }
        }
      ]
    },
    {
      "cell_type": "markdown",
      "metadata": {
        "id": "gst-x6VEu1ac"
      },
      "source": [
        "# **Conclusiones:**\n",
        "\n",
        "Se buscó implementar un modelo analítico que tuviera un buen ajuste (buena precisión) a la hora de detectar transacciones fraudulentas realizadas a través del sistema de billetera móvil, cuyo costo operacional y tiempo de identificación fuera mínimo.\n",
        "\n",
        "Partiendo del hecho que se cuenta con un dataset altamente desbalanceado y que existe gran variedad de técnicas para afrontar dicho problema, con sus pro y sus contras, se decide inicialmente aplicar varios modelos sin generar datos sintéticos y luego se aplicó la técnica de sobremuestreo de minorías (SMOTE). Adicional se aplican las métricas de exactitud, precisión y sensibilidad, dando mayor credibilidad a las dos últimas, ya que para este tipo de datos resulta poco válida la métrica de exactitud, porque puede generar datos engañosos por dicho desbalanceo, lo cual se evidencia en el resultado de los modelos implementados.\n",
        "\n",
        "La comparación de eficiencia de los modelos con y sin datos sintéticos no reportó diferencias significativas en sus resultados, pero si en el costo computacional y tiempo de espera en las estimaciones de los parámetros ya que fueron bastante altos en comparación al tiempo y validaciones sin sobremuestreo.\n",
        "\n",
        "En cuanto a los resultados, el mejor se obtiene mediante el uso de la Regresión Logística, sin tener en cuenta el sobremuestreo. \n",
        "Aunque la totalidad de los modelos obtuvieron resultados similares con diferentes métricas, se evidencia un bajo desempeño en los modelos Naive Bayes y Random Forest.\n",
        "\n",
        "Es importante tener en cuenta que la base con la que se trabaja tiene una gran cantidad de transacciones, que al implementar técnicas o modelos analíticos como una máquina de soporte vectorial (SVM) o realizar técnicas de sobremuestreo implican un costo computacional muy grande para lograr detectar de manera rápida aquellas transacciones que puedan ser fraude.\n",
        "\n"
      ]
    }
  ]
}
